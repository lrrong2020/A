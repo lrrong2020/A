{
  "nbformat": 4,
  "nbformat_minor": 0,
  "metadata": {
    "colab": {
      "provenance": [],
      "gpuType": "T4",
      "authorship_tag": "ABX9TyOJMW98lM42btX/z8x4zhfM",
      "include_colab_link": true
    },
    "kernelspec": {
      "name": "python3",
      "display_name": "Python 3"
    },
    "language_info": {
      "name": "python"
    },
    "accelerator": "GPU"
  },
  "cells": [
    {
      "cell_type": "markdown",
      "metadata": {
        "id": "view-in-github",
        "colab_type": "text"
      },
      "source": [
        "<a href=\"https://colab.research.google.com/github/lrrong2020/A/blob/main/AI_Assignment2.ipynb\" target=\"_parent\"><img src=\"https://colab.research.google.com/assets/colab-badge.svg\" alt=\"Open In Colab\"/></a>"
      ]
    },
    {
      "cell_type": "markdown",
      "source": [
        "**Load the dataset**"
      ],
      "metadata": {
        "id": "K9i5I1M2slPc"
      }
    },
    {
      "cell_type": "code",
      "source": [
        "import pandas as pd\n",
        "\n",
        "# Load the dataset\n",
        "df = pd.read_csv('https://raw.githubusercontent.com/ssmresearch/hanminor/main/cars.csv')"
      ],
      "metadata": {
        "id": "GNl-uaU1sgND"
      },
      "execution_count": 1,
      "outputs": []
    },
    {
      "cell_type": "markdown",
      "source": [
        "**1. How many records?**"
      ],
      "metadata": {
        "id": "8iPFPlwFmwVR"
      }
    },
    {
      "cell_type": "code",
      "source": [
        "# Count the records\n",
        "num_records = len(df)\n",
        "print(num_records)"
      ],
      "metadata": {
        "colab": {
          "base_uri": "https://localhost:8080/"
        },
        "id": "a9U69mQMmveW",
        "outputId": "172d718f-3f83-4af4-b32b-60808bb1dade"
      },
      "execution_count": 2,
      "outputs": [
        {
          "output_type": "stream",
          "name": "stdout",
          "text": [
            "74\n"
          ]
        }
      ]
    },
    {
      "cell_type": "markdown",
      "source": [
        "**2. How many variables?**"
      ],
      "metadata": {
        "id": "EYDmhQ74sqrI"
      }
    },
    {
      "cell_type": "code",
      "source": [
        "# Count the variables/columns\n",
        "num_variables = df.shape[1]\n",
        "print(num_variables)"
      ],
      "metadata": {
        "colab": {
          "base_uri": "https://localhost:8080/"
        },
        "id": "cNOcpWCmsxK7",
        "outputId": "9e86afdb-3ab5-40f5-a6a6-b6c564888338"
      },
      "execution_count": 3,
      "outputs": [
        {
          "output_type": "stream",
          "name": "stdout",
          "text": [
            "10\n"
          ]
        }
      ]
    },
    {
      "cell_type": "markdown",
      "source": [
        "**3. What are the minimum, mean, and maximum values of those variables?**"
      ],
      "metadata": {
        "id": "TCPHR_kosy7O"
      }
    },
    {
      "cell_type": "code",
      "source": [
        "stats = df.describe().loc[['min', 'mean', 'max']]\n",
        "print(stats)"
      ],
      "metadata": {
        "colab": {
          "base_uri": "https://localhost:8080/"
        },
        "id": "NTVPgJPNs2jQ",
        "outputId": "8f66144c-edaa-4255-995b-9652f871e2ea"
      },
      "execution_count": 5,
      "outputs": [
        {
          "output_type": "stream",
          "name": "stdout",
          "text": [
            "             price    mileage    repair  headspace  trunkspace       weight  \\\n",
            "min    3291.000000   4.800000  1.000000   3.750000  140.000000   792.000000   \n",
            "mean   6165.256757   8.518919  3.391892   7.483108  385.189189  1358.756757   \n",
            "max   15906.000000  16.400000  5.000000  12.500000  644.000000  2178.000000   \n",
            "\n",
            "          length  turningcircle  gear_ratio  \n",
            "min   355.000000          9.450    2.190000  \n",
            "mean  469.831081         12.095    3.014865  \n",
            "max   582.500000         15.560    3.890000  \n"
          ]
        }
      ]
    },
    {
      "cell_type": "markdown",
      "source": [
        "**4. Determine the \"label\" variable, for example “origin”.**"
      ],
      "metadata": {
        "id": "O1qazkWcnyFz"
      }
    },
    {
      "cell_type": "code",
      "source": [
        "label = 'origin'"
      ],
      "metadata": {
        "id": "bJOwSrhon5qx"
      },
      "execution_count": 6,
      "outputs": []
    },
    {
      "cell_type": "markdown",
      "source": [
        "**5. Normalize the file (excluding the \"label\" variable!). The resulting values of all variables should\n",
        "be in the range from 0 to 1.**"
      ],
      "metadata": {
        "id": "31EwkR_is5oU"
      }
    },
    {
      "cell_type": "code",
      "source": [
        "from sklearn.preprocessing import MinMaxScaler\n",
        "\n",
        "# Select columns to normalize, excluding 'origin'\n",
        "features_to_normalize = df.columns.drop(label)\n",
        "\n",
        "# Initialize the MinMaxScaler\n",
        "scaler = MinMaxScaler()\n",
        "\n",
        "# Normalize the features\n",
        "df[features_to_normalize] = scaler.fit_transform(df[features_to_normalize])"
      ],
      "metadata": {
        "id": "yTY3TisLs90S"
      },
      "execution_count": 7,
      "outputs": []
    },
    {
      "cell_type": "markdown",
      "source": [
        "**6. Create a training and test set. Use 80% of the records for the training set. The data may be\n",
        "sorted by important characteristics!**"
      ],
      "metadata": {
        "id": "DYaW4tJNs_Pi"
      }
    },
    {
      "cell_type": "code",
      "source": [
        "from sklearn.model_selection import train_test_split\n",
        "\n",
        "# Define the features and the target\n",
        "X = df.drop(label, axis=1)\n",
        "y = df[label]\n",
        "\n",
        "# Split the data into training and testing sets\n",
        "X_train, X_test, y_train, y_test = train_test_split(X, y, test_size=0.2, random_state=42)\n",
        "\n",
        "#sort data by important characteristics"
      ],
      "metadata": {
        "id": "Nzcaxk5jtAmK"
      },
      "execution_count": 8,
      "outputs": []
    },
    {
      "cell_type": "markdown",
      "source": [
        "**7. Determine k for the kNN method.**"
      ],
      "metadata": {
        "id": "ck3Z3vwltCQ5"
      }
    },
    {
      "cell_type": "code",
      "source": [
        "from sklearn.model_selection import cross_val_score\n",
        "from sklearn.neighbors import KNeighborsClassifier\n",
        "import numpy as np\n",
        "\n",
        "# Range of k to try\n",
        "k_range = range(1, 26)\n",
        "\n",
        "# Store average scores for each k\n",
        "k_scores = []\n",
        "\n",
        "# Use 10-fold cross-validation for each k\n",
        "for k in k_range:\n",
        "    knn = KNeighborsClassifier(n_neighbors=k)\n",
        "    scores = cross_val_score(knn, X_train, y_train, cv=10, scoring='accuracy')\n",
        "    k_scores.append(scores.mean())\n",
        "\n",
        "# Determine the best k\n",
        "best_k = np.argmax(k_scores) + 1  # Adding 1 because index in Python starts from 0"
      ],
      "metadata": {
        "id": "NBrgTpy5tC7u"
      },
      "execution_count": null,
      "outputs": []
    },
    {
      "cell_type": "markdown",
      "source": [
        "**8. Train the model, and evaluate the model: how good are the predictions in the test set?**"
      ],
      "metadata": {
        "id": "AxvYpa11tFMZ"
      }
    },
    {
      "cell_type": "code",
      "source": [
        "# Train the model with the best k\n",
        "knn = KNeighborsClassifier(n_neighbors=best_k)\n",
        "knn.fit(X_train, y_train)\n",
        "\n",
        "# Predict on the test set\n",
        "y_pred = knn.predict(X_test)\n",
        "\n",
        "# Evaluate the model\n",
        "from sklearn.metrics import classification_report, confusion_matrix, accuracy_score\n",
        "\n",
        "print(confusion_matrix(y_test, y_pred))\n",
        "print(classification_report(y_test, y_pred))\n",
        "print(\"Accuracy:\", accuracy_score(y_test, y_pred))"
      ],
      "metadata": {
        "colab": {
          "base_uri": "https://localhost:8080/"
        },
        "id": "m5j1mlU-tHCy",
        "outputId": "0d4854ff-b48d-4dfa-f06f-d78842d3914b"
      },
      "execution_count": null,
      "outputs": [
        {
          "output_type": "stream",
          "name": "stdout",
          "text": [
            "[[ 3  1]\n",
            " [ 0 11]]\n",
            "              precision    recall  f1-score   support\n",
            "\n",
            "       other       1.00      0.75      0.86         4\n",
            "         usa       0.92      1.00      0.96        11\n",
            "\n",
            "    accuracy                           0.93        15\n",
            "   macro avg       0.96      0.88      0.91        15\n",
            "weighted avg       0.94      0.93      0.93        15\n",
            "\n",
            "Accuracy: 0.9333333333333333\n"
          ]
        }
      ]
    },
    {
      "cell_type": "code",
      "source": [
        "import matplotlib.pyplot as plt\n",
        "\n",
        "# Plot the k values and their corresponding accuracy scores\n",
        "plt.plot(k_range, k_scores)\n",
        "plt.xlabel('Value of k for kNN')\n",
        "plt.ylabel('Cross-Validated Accuracy')\n",
        "plt.show()"
      ],
      "metadata": {
        "colab": {
          "base_uri": "https://localhost:8080/",
          "height": 449
        },
        "id": "OZwUOEH5tL1D",
        "outputId": "6e70bd79-97a8-4f6c-9f33-c5f1886a0a0e"
      },
      "execution_count": null,
      "outputs": [
        {
          "output_type": "display_data",
          "data": {
            "text/plain": [
              "<Figure size 640x480 with 1 Axes>"
            ],
            "image/png": "[encoded data removed]"
          },
          "metadata": {}
        }
      ]
    },
    {
      "cell_type": "code",
      "source": [
        "import seaborn as sns\n",
        "\n",
        "# Plot the confusion matrix\n",
        "plt.figure(figsize=(10, 7))\n",
        "sns.heatmap(confusion_matrix(y_test, y_pred), annot=True, fmt='d')\n",
        "plt.xlabel('Predicted')\n",
        "plt.ylabel('True')\n",
        "plt.show()"
      ],
      "metadata": {
        "colab": {
          "base_uri": "https://localhost:8080/",
          "height": 619
        },
        "id": "fY_C4eoqtP4K",
        "outputId": "2f80b44d-a708-43c3-9c83-81bfe477d2e1"
      },
      "execution_count": null,
      "outputs": [
        {
          "output_type": "display_data",
          "data": {
            "text/plain": [
              "<Figure size 1000x700 with 2 Axes>"
            ],
            "image/png": "[encoded data removed]"
          },
          "metadata": {}
        }
      ]
    },
    {
      "cell_type": "markdown",
      "source": [
        "**9. What are possible improvements in the model?**"
      ],
      "metadata": {
        "id": "DUZ-nCS_pFf3"
      }
    }
  ]
}