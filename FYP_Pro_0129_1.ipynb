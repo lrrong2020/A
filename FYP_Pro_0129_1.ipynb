{
  "nbformat": 4,
  "nbformat_minor": 0,
  "metadata": {
    "colab": {
      "provenance": [],
      "machine_shape": "hm",
      "gpuType": "A100",
      "authorship_tag": "ABX9TyMoo606A7ugc05g9jk7Jo6B",
      "include_colab_link": true
    },
    "kernelspec": {
      "name": "python3",
      "display_name": "Python 3"
    },
    "language_info": {
      "name": "python"
    },
    "accelerator": "GPU"
  },
  "cells": [
    {
      "cell_type": "markdown",
      "metadata": {
        "id": "view-in-github",
        "colab_type": "text"
      },
      "source": [
        "<a href=\"https://colab.research.google.com/github/lrrong2020/A/blob/main/FYP_Pro_0129_1.ipynb\" target=\"_parent\"><img src=\"https://colab.research.google.com/assets/colab-badge.svg\" alt=\"Open In Colab\"/></a>"
      ]
    },
    {
      "cell_type": "markdown",
      "source": [
        "Mount Google Drive"
      ],
      "metadata": {
        "id": "VjeGEXN7MH4C"
      }
    },
    {
      "cell_type": "code",
      "execution_count": 1,
      "metadata": {
        "colab": {
          "base_uri": "https://localhost:8080/"
        },
        "id": "hwK1YvMFL9Xz",
        "outputId": "72a17e5f-0f8a-4e6b-d003-f7f2bfe2e3d2"
      },
      "outputs": [
        {
          "output_type": "stream",
          "name": "stdout",
          "text": [
            "Mounted at /content/gdrive\n"
          ]
        }
      ],
      "source": [
        "from google.colab import drive\n",
        "drive.mount('/content/gdrive', force_remount=True)"
      ]
    },
    {
      "cell_type": "markdown",
      "source": [
        "Prep"
      ],
      "metadata": {
        "id": "wT_n6JPqMeCj"
      }
    },
    {
      "cell_type": "code",
      "source": [
        "%cd /content/gdrive/MyDrive/Kaggle/unzip/\n",
        "!cp ../kaggle.json /root/.kaggle/"
      ],
      "metadata": {
        "colab": {
          "base_uri": "https://localhost:8080/"
        },
        "id": "kWJglFbYMmEr",
        "outputId": "c652695d-1647-4b5d-daba-0a233c6fc2f7"
      },
      "execution_count": 2,
      "outputs": [
        {
          "output_type": "stream",
          "name": "stdout",
          "text": [
            "/content/gdrive/MyDrive/Kaggle/unzip\n"
          ]
        }
      ]
    },
    {
      "cell_type": "markdown",
      "source": [
        "GitHub"
      ],
      "metadata": {
        "id": "i_Y1lyGWiJAU"
      }
    },
    {
      "cell_type": "code",
      "source": [
        "import pandas as pd #For reading csv files.\n",
        "import numpy as np\n",
        "import os\n",
        "import matplotlib.pyplot as plt #For plotting.\n",
        "\n",
        "import PIL.Image as Image #For working with image files.\n",
        "\n",
        "#Importing torch\n",
        "import torch\n",
        "import torch.nn as nn\n",
        "import torch.nn.functional as F\n",
        "\n",
        "from torch.utils.data import Dataset,DataLoader #For working with data.\n",
        "\n",
        "from torchvision import models,transforms #For pretrained models,image transformations.\n",
        "from torch.optim.lr_scheduler import StepLR\n",
        "\n",
        "torch.manual_seed(3407)"
      ],
      "metadata": {
        "id": "qqAFoYKfjQHr",
        "colab": {
          "base_uri": "https://localhost:8080/"
        },
        "outputId": "c5d1b367-d832-4248-f3ba-b2d194c9c564"
      },
      "execution_count": 3,
      "outputs": [
        {
          "output_type": "execute_result",
          "data": {
            "text/plain": [
              "<torch._C.Generator at 0x7ed776298330>"
            ]
          },
          "metadata": {},
          "execution_count": 3
        }
      ]
    },
    {
      "cell_type": "code",
      "source": [
        "device = torch.device('cuda' if torch.cuda.is_available() else 'cpu') #Use GPU if it's available or else use CPU.\n",
        "print(device) #Prints the device we're using."
      ],
      "metadata": {
        "id": "_-dPSwwujHvj",
        "colab": {
          "base_uri": "https://localhost:8080/"
        },
        "outputId": "bf35a9f4-7086-438f-a2a0-b697f5dc28bd"
      },
      "execution_count": 4,
      "outputs": [
        {
          "output_type": "stream",
          "name": "stdout",
          "text": [
            "cuda\n"
          ]
        }
      ]
    },
    {
      "cell_type": "code",
      "source": [
        "path = \"/content/gdrive/MyDrive/Kaggle/unzip/\"\n",
        "\n",
        "all_df = pd.read_csv(f\"{path}allLabels.csv\")\n",
        "\n",
        "from sklearn.model_selection import train_test_split\n",
        "\n",
        "# subset\n",
        "sub_df, depre_df = train_test_split(all_df, test_size=0.8, random_state=42)\n",
        "\n",
        "# Assuming train_df is your original training DataFrame\n",
        "train_df, test_df = train_test_split(sub_df, test_size=1400, random_state=42)\n",
        "\n",
        "# Now split the remaining training data into training and validation sets\n",
        "train_df, valid_df = train_test_split(train_df, test_size=0.1, random_state=42)\n",
        "\n",
        "\n",
        "print(f'No.of.training_samples: {len(train_df)}')\n",
        "print(f'No.of.testing_samples: {len(test_df)}')\n",
        "print(f'No.of.val_samples: {len(valid_df)}')"
      ],
      "metadata": {
        "id": "NjkojF_kawHd",
        "colab": {
          "base_uri": "https://localhost:8080/"
        },
        "outputId": "6e0d129d-cb3c-42e1-9032-d0e0a608efda"
      },
      "execution_count": 5,
      "outputs": [
        {
          "output_type": "stream",
          "name": "stdout",
          "text": [
            "No.of.training_samples: 5062\n",
            "No.of.testing_samples: 1400\n",
            "No.of.val_samples: 563\n"
          ]
        }
      ]
    },
    {
      "cell_type": "code",
      "source": [
        "#Histogram of label counts.\n",
        "train_df.level.hist()\n",
        "plt.xticks([0,1,2,3,4])\n",
        "plt.grid(False)\n",
        "plt.show()"
      ],
      "metadata": {
        "colab": {
          "base_uri": "https://localhost:8080/",
          "height": 430
        },
        "id": "yQVZJzjXkBwP",
        "outputId": "a5bd99d3-f7e5-4b77-b916-2b2836980483"
      },
      "execution_count": 6,
      "outputs": [
        {
          "output_type": "display_data",
          "data": {
            "text/plain": [
              "<Figure size 640x480 with 1 Axes>"
            ],
            "image/png": "[encoded data removed]"
          },
          "metadata": {}
        }
      ]
    },
    {
      "cell_type": "code",
      "source": [
        "#As you can see,the data is imbalanced.\n",
        "#So we've to calculate weights for each class,which can be used in calculating loss.\n",
        "\n",
        "from sklearn.utils import class_weight #For calculating weights for each class.\n",
        "class_weights = class_weight.compute_class_weight(class_weight='balanced',classes=np.array([0,1,2,3,4]),y=train_df['level'].values)\n",
        "class_weights = torch.tensor(class_weights,dtype=torch.float).to(device)\n",
        "\n",
        "print(class_weights) #Prints the calculated weights for the classes."
      ],
      "metadata": {
        "colab": {
          "base_uri": "https://localhost:8080/"
        },
        "id": "VYrE034FkXSI",
        "outputId": "e44d58f3-b20c-467e-ed67-cf0afa82159f"
      },
      "execution_count": 7,
      "outputs": [
        {
          "output_type": "stream",
          "name": "stdout",
          "text": [
            "tensor([0.2743, 2.9776, 1.3030, 6.9342, 9.3741], device='cuda:0')\n"
          ]
        }
      ]
    },
    {
      "cell_type": "code",
      "source": [
        "#For getting a random image from our training set.\n",
        "# num = int(np.random.randint(0,len(train_df)-1,(1,))) #Picks a random number.\n",
        "# sample_image = (f'{path}train/{train_df[\"image\"][num]}.jpeg')#Image file.\n",
        "# sample_image = Image.open(sample_image)\n",
        "# plt.imshow(sample_image)\n",
        "# plt.axis('off')\n",
        "# plt.title(f'Class: {train_df[\"level\"][num]}') #Class of the random image.\n",
        "# plt.show()"
      ],
      "metadata": {
        "id": "2CAOhlpYklys"
      },
      "execution_count": 8,
      "outputs": []
    },
    {
      "cell_type": "code",
      "source": [
        "class dataset(Dataset): # Inherits from the Dataset class.\n",
        "    '''\n",
        "    dataset class overloads the __init__, __len__, __getitem__ methods of the Dataset class.\n",
        "\n",
        "    Attributes :\n",
        "        df:  DataFrame object for the csv file.\n",
        "        data_path: Location of the dataset.\n",
        "        image_transform: Transformations to apply to the image.\n",
        "        train: A boolean indicating whether it is a training_set or not.\n",
        "    '''\n",
        "\n",
        "    def __init__(self,df,data_path,image_transform=None,train=True): # Constructor.\n",
        "        super(Dataset,self).__init__() #Calls the constructor of the Dataset class.\n",
        "        self.df = df\n",
        "        self.data_path = data_path\n",
        "        self.image_transform = image_transform\n",
        "        self.train = train\n",
        "\n",
        "    def __len__(self):\n",
        "        return len(self.df) #Returns the number of samples in the dataset.\n",
        "\n",
        "    def __getitem__(self,index):\n",
        "        image_id = self.df['image'][index]\n",
        "        image = Image.open(f'{self.data_path}/{image_id}.jpeg') #Image.\n",
        "        if self.image_transform :\n",
        "            image = self.image_transform(image) #Applies transformation to the image.\n",
        "\n",
        "        if self.train :\n",
        "            label = self.df['level'][index] #Label.\n",
        "            return image,label #If train == True, return image & label.\n",
        "\n",
        "        else:\n",
        "            return image #If train != True, return image.\n"
      ],
      "metadata": {
        "id": "C8rgUjyom5uS"
      },
      "execution_count": 9,
      "outputs": []
    },
    {
      "cell_type": "code",
      "source": [
        "image_transform = transforms.Compose([transforms.Resize([512,512]),\n",
        "                                      transforms.ToTensor(),\n",
        "                                      transforms.Normalize((0.485, 0.456, 0.406), (0.229, 0.224, 0.225))]) #Transformations to apply to the image.\n",
        "\n",
        "train_df = train_df.reset_index(drop=True)\n",
        "valid_df = valid_df.reset_index(drop=True)\n",
        "test_df = test_df.reset_index(drop=True)\n",
        "\n",
        "\n",
        "train_set = dataset(train_df,f'{path}train',image_transform=image_transform)\n",
        "test_set = dataset(test_df,f'{path}train',image_transform=image_transform)\n",
        "valid_set = dataset(valid_df,f'{path}train',image_transform=image_transform)"
      ],
      "metadata": {
        "id": "4UsJqLqinRA0"
      },
      "execution_count": 10,
      "outputs": []
    },
    {
      "cell_type": "code",
      "source": [
        "train_dataloader = DataLoader(train_set,batch_size=16,shuffle=True, num_workers=4) #DataLoader for train_set.\n",
        "valid_dataloader = DataLoader(valid_set,batch_size=16,shuffle=False, num_workers=4) #DataLoader for validation_set.\n",
        "test_dataloader = DataLoader(test_set, batch_size=16, shuffle=False, num_workers=4)"
      ],
      "metadata": {
        "id": "rm8l4B2Am0Ry"
      },
      "execution_count": 11,
      "outputs": []
    },
    {
      "cell_type": "code",
      "source": [
        "from torchvision.models import resnet50,ResNet50_Weights\n",
        "#Since we've less data, we'll use Transfer learning.\n",
        "model = models.resnet50(weights=ResNet50_Weights.DEFAULT) #Downloads the resnet50 model which is pretrained on Imagenet dataset.\n",
        "# Replace the Final layer of pretrained resnet50 with 2 new layers.\n",
        "model.fc = nn.Sequential(\n",
        "    nn.Linear(2048, 5),\n",
        ")"
      ],
      "metadata": {
        "id": "4SXyKyippyDz"
      },
      "execution_count": 12,
      "outputs": []
    },
    {
      "cell_type": "code",
      "source": [
        "model = model.to(device) #Moves the model to the device."
      ],
      "metadata": {
        "id": "r96X5p-_q2YI"
      },
      "execution_count": 13,
      "outputs": []
    },
    {
      "cell_type": "code",
      "source": [
        "def train(dataloader,model,loss_fn,optimizer):\n",
        "    '''\n",
        "    train function updates the weights of the model based on the\n",
        "    loss using the optimizer in order to get a lower loss.\n",
        "\n",
        "    Args :\n",
        "         dataloader: Iterator for the batches in the data_set.\n",
        "         model: Given an input produces an output by multiplying the input with the model weights.\n",
        "         loss_fn: Calculates the discrepancy between the label & the model's predictions.\n",
        "         optimizer: Updates the model weights.\n",
        "\n",
        "    Returns :\n",
        "         Average loss per batch which is calculated by dividing the losses for all the batches\n",
        "         with the number of batches.\n",
        "    '''\n",
        "\n",
        "    model.train() #Sets the model for training.\n",
        "\n",
        "    total = 0\n",
        "    correct = 0\n",
        "    running_loss = 0\n",
        "\n",
        "    for batch,(x,y) in enumerate(dataloader): #Iterates through the batches.\n",
        "\n",
        "        output = model(x.to(device)) #model's predictions.\n",
        "        loss   = loss_fn(output,y.to(device)) #loss calculation.\n",
        "\n",
        "        running_loss += loss.item()\n",
        "\n",
        "        total        += y.size(0)\n",
        "        predictions   = output.argmax(dim=1).cpu().detach() #Index for the highest score for all the samples in the batch.\n",
        "        correct      += (predictions == y.cpu().detach()).sum().item() #No.of.cases where model's predictions are equal to the label.\n",
        "        accuracy = 100*(correct/total)\n",
        "\n",
        "        optimizer.zero_grad() #Gradient values are set to zero.\n",
        "        loss.backward() #Calculates the gradients.\n",
        "        optimizer.step() #Updates the model weights.\n",
        "\n",
        "        # x, y = x.cpu(), y.cpu()\n",
        "        torch.cuda.empty_cache()\n",
        "\n",
        "        # Print some information every 10 batches\n",
        "        if batch % 10 == 0:\n",
        "            print(f'Batch {batch}/{len(dataloader)} processed, running loss: {running_loss:.6f}, correct predictions: {correct}, total: {total}')\n",
        "\n",
        "\n",
        "    avg_loss = running_loss/len(dataloader) # Average loss for a single batch\n",
        "\n",
        "    print(f'\\nTraining Loss per batch = {avg_loss:.6f}',end='\\t')\n",
        "    print(f'Accuracy on Training set = {100*(correct/total):.6f}% [{correct}/{total}]') #Prints the Accuracy.\n",
        "\n",
        "    torch.save(model, './DR_ResNet50.pt')\n",
        "    return avg_loss, accuracy"
      ],
      "metadata": {
        "id": "OYwzKdDzqier"
      },
      "execution_count": 14,
      "outputs": []
    },
    {
      "cell_type": "code",
      "source": [
        "def validate(dataloader,model,loss_fn):\n",
        "    '''\n",
        "    validate function calculates the average loss per batch and the accuracy of the model's predictions.\n",
        "\n",
        "    Args :\n",
        "         dataloader: Iterator for the batches in the data_set.\n",
        "         model: Given an input produces an output by multiplying the input with the model weights.\n",
        "         loss_fn: Calculates the discrepancy between the label & the model's predictions.\n",
        "\n",
        "    Returns :\n",
        "         Average loss per batch which is calculated by dividing the losses for all the batches\n",
        "         with the number of batches.\n",
        "    '''\n",
        "\n",
        "    model.eval() #Sets the model for evaluation.\n",
        "\n",
        "    total = 0\n",
        "    correct = 0\n",
        "    running_loss = 0\n",
        "\n",
        "    with torch.no_grad(): #No need to calculate the gradients.\n",
        "\n",
        "        for x,y in dataloader:\n",
        "\n",
        "            output        = model(x.to(device)) #model's output.\n",
        "            loss          = loss_fn(output,y.to(device)).item() #loss calculation.\n",
        "            running_loss += loss\n",
        "\n",
        "            total        += y.size(0)\n",
        "            predictions   = output.argmax(dim=1).cpu().detach()\n",
        "            correct      += (predictions == y.cpu().detach()).sum().item()\n",
        "            accuracy = 100*(correct/total)\n",
        "\n",
        "    avg_loss = running_loss/len(dataloader) #Average loss per batch.\n",
        "\n",
        "    print(f'\\nValidation Loss per batch = {avg_loss:.6f}',end='\\t')\n",
        "    print(f'Accuracy on Validation set = {100*(correct/total):.6f}% [{correct}/{total}]') #Prints the Accuracy.\n",
        "\n",
        "    return avg_loss, accuracy"
      ],
      "metadata": {
        "id": "CG6C4yH-qf48"
      },
      "execution_count": 15,
      "outputs": []
    },
    {
      "cell_type": "code",
      "source": [
        "def optimize(train_dataloader,valid_dataloader,model,loss_fn,optimizer,nb_epochs, patience):\n",
        "    '''\n",
        "    optimize function calls the train & validate functions for (nb_epochs) times.\n",
        "\n",
        "    Args :\n",
        "        train_dataloader: DataLoader for the train_set.\n",
        "        valid_dataloader: DataLoader for the valid_set.\n",
        "        model: Given an input produces an output by multiplying the input with the model weights.\n",
        "        loss_fn: Calculates the discrepancy between the label & the model's predictions.\n",
        "        optimizer: Updates the model weights.\n",
        "        nb_epochs: Number of epochs.\n",
        "\n",
        "    Returns :\n",
        "        Tuple of lists containing losses for all the epochs.\n",
        "    '''\n",
        "    # Initialize the learning rate scheduler\n",
        "    scheduler = StepLR(optimizer, step_size=4, gamma=0.5)\n",
        "\n",
        "    #Lists to store losses for all the epochs.\n",
        "    train_losses = []\n",
        "    valid_losses = []\n",
        "\n",
        "    df = pd.DataFrame(columns=['epoch', 'train_loss', 'train_accuracy', 'valid_loss', 'valid_accuracy'])\n",
        "\n",
        "    best_valid_loss = float('inf')\n",
        "    no_improve_epoch = 0\n",
        "\n",
        "    for epoch in range(nb_epochs):\n",
        "        print(f'\\nEpoch {epoch+1}/{nb_epochs}')\n",
        "        print('-------------------------------')\n",
        "        print(\"Epoch: %d, Learning Rate: %f \" % (epoch, optimizer.param_groups[0]['lr']))\n",
        "        train_loss, train_accuracy = train(train_dataloader,model,loss_fn,optimizer)\n",
        "        valid_loss, valid_accuracy = validate(valid_dataloader,model,loss_fn)\n",
        "\n",
        "        train_losses.append(train_loss)\n",
        "        valid_losses.append(valid_loss)\n",
        "\n",
        "        print(f'Train Loss: {train_loss:.4f}, Train Accuracy: {train_accuracy:.4f}')\n",
        "        print(f'Valid Loss: {valid_loss:.4f}, Valid Accuracy: {valid_accuracy:.4f}')\n",
        "\n",
        "\n",
        "\n",
        "        # Check if the validation loss improved\n",
        "        if valid_loss < best_valid_loss:\n",
        "            best_valid_loss = valid_loss\n",
        "            no_improve_epoch = 0\n",
        "\n",
        "            # Change 5: Save the model when validation loss improves\n",
        "            torch.save(model.state_dict(), 'best_model.pt')\n",
        "        else:\n",
        "            no_improve_epoch += 1\n",
        "\n",
        "        # If the validation loss did not improve for 'patience' epochs, stop training\n",
        "        if no_improve_epoch >= patience:\n",
        "            print(f'Early stopping at epoch {epoch+1}, the validation loss did not improve for the last {patience} epochs')\n",
        "            break\n",
        "\n",
        "\n",
        "        # Step the learning rate scheduler\n",
        "        scheduler.step()\n",
        "        df = df.append({'epoch': epoch+1, 'train_loss': train_loss, 'train_accuracy': train_accuracy, 'valid_loss': valid_loss, 'valid_accuracy': valid_accuracy}, ignore_index=True)\n",
        "\n",
        "\n",
        "    print('\\nTraining has completed!')\n",
        "\n",
        "    # Save to CSV\n",
        "    df.to_csv('training_validation_metrics.csv', index=False)\n",
        "\n",
        "    return train_losses,valid_losses"
      ],
      "metadata": {
        "id": "U661TQ5wqYGU"
      },
      "execution_count": 16,
      "outputs": []
    },
    {
      "cell_type": "code",
      "source": [
        "loss_fn   = nn.CrossEntropyLoss(weight=class_weights) #CrossEntropyLoss with class_weights.\n",
        "optimizer = torch.optim.SGD(model.parameters(),lr=0.005)\n",
        "nb_epochs = 30\n",
        "patience = 4\n",
        "#Call the optimize function.\n",
        "train_losses, valid_losses = optimize(train_dataloader,valid_dataloader,model,loss_fn,optimizer,nb_epochs, patience)"
      ],
      "metadata": {
        "colab": {
          "base_uri": "https://localhost:8080/"
        },
        "id": "guN3gCYfqFdp",
        "outputId": "5bb5b346-b4fc-4752-ef73-be00b0dba01b"
      },
      "execution_count": 17,
      "outputs": [
        {
          "output_type": "stream",
          "name": "stdout",
          "text": [
            "\n",
            "Epoch 1/30\n",
            "-------------------------------\n",
            "Epoch: 0, Learning Rate: 0.005000 \n",
            "Batch 0/317 processed, running loss: 1.653175, correct predictions: 2, total: 16\n",
            "Batch 10/317 processed, running loss: 17.536213, correct predictions: 24, total: 176\n",
            "Batch 20/317 processed, running loss: 33.087919, correct predictions: 47, total: 336\n",
            "Batch 30/317 processed, running loss: 47.898250, correct predictions: 77, total: 496\n",
            "Batch 40/317 processed, running loss: 63.777148, correct predictions: 126, total: 656\n",
            "Batch 50/317 processed, running loss: 80.358757, correct predictions: 198, total: 816\n",
            "Batch 60/317 processed, running loss: 96.518895, correct predictions: 281, total: 976\n",
            "Batch 70/317 processed, running loss: 112.812725, correct predictions: 332, total: 1136\n",
            "Batch 80/317 processed, running loss: 128.457486, correct predictions: 371, total: 1296\n",
            "Batch 90/317 processed, running loss: 144.098414, correct predictions: 434, total: 1456\n",
            "Batch 100/317 processed, running loss: 158.499483, correct predictions: 540, total: 1616\n",
            "Batch 110/317 processed, running loss: 173.680197, correct predictions: 638, total: 1776\n",
            "Batch 120/317 processed, running loss: 189.050929, correct predictions: 753, total: 1936\n",
            "Batch 130/317 processed, running loss: 205.668584, correct predictions: 841, total: 2096\n",
            "Batch 140/317 processed, running loss: 221.349940, correct predictions: 929, total: 2256\n",
            "Batch 150/317 processed, running loss: 237.261953, correct predictions: 1040, total: 2416\n",
            "Batch 160/317 processed, running loss: 253.060238, correct predictions: 1152, total: 2576\n",
            "Batch 170/317 processed, running loss: 268.674048, correct predictions: 1259, total: 2736\n",
            "Batch 180/317 processed, running loss: 284.003473, correct predictions: 1382, total: 2896\n",
            "Batch 190/317 processed, running loss: 299.266395, correct predictions: 1501, total: 3056\n",
            "Batch 200/317 processed, running loss: 315.269948, correct predictions: 1601, total: 3216\n",
            "Batch 210/317 processed, running loss: 330.761395, correct predictions: 1698, total: 3376\n",
            "Batch 220/317 processed, running loss: 345.825957, correct predictions: 1770, total: 3536\n",
            "Batch 230/317 processed, running loss: 361.157021, correct predictions: 1889, total: 3696\n",
            "Batch 240/317 processed, running loss: 377.169040, correct predictions: 1984, total: 3856\n",
            "Batch 250/317 processed, running loss: 392.202354, correct predictions: 2083, total: 4016\n",
            "Batch 260/317 processed, running loss: 407.844500, correct predictions: 2171, total: 4176\n",
            "Batch 270/317 processed, running loss: 422.710418, correct predictions: 2267, total: 4336\n",
            "Batch 280/317 processed, running loss: 437.541036, correct predictions: 2375, total: 4496\n",
            "Batch 290/317 processed, running loss: 452.401738, correct predictions: 2477, total: 4656\n",
            "Batch 300/317 processed, running loss: 467.253973, correct predictions: 2556, total: 4816\n",
            "Batch 310/317 processed, running loss: 481.950934, correct predictions: 2653, total: 4976\n",
            "\n",
            "Training Loss per batch = 1.548305\tAccuracy on Training set = 53.200316% [2693/5062]\n",
            "\n",
            "Validation Loss per batch = 1.435995\tAccuracy on Validation set = 57.015986% [321/563]\n",
            "Train Loss: 1.5483, Train Accuracy: 53.2003\n",
            "Valid Loss: 1.4360, Valid Accuracy: 57.0160\n",
            "\n",
            "Epoch 2/30\n",
            "-------------------------------\n",
            "Epoch: 1, Learning Rate: 0.005000 \n"
          ]
        },
        {
          "output_type": "stream",
          "name": "stderr",
          "text": [
            "<ipython-input-16-473e11fd7032>:61: FutureWarning: The frame.append method is deprecated and will be removed from pandas in a future version. Use pandas.concat instead.\n",
            "  df = df.append({'epoch': epoch+1, 'train_loss': train_loss, 'train_accuracy': train_accuracy, 'valid_loss': valid_loss, 'valid_accuracy': valid_accuracy}, ignore_index=True)\n"
          ]
        },
        {
          "output_type": "stream",
          "name": "stdout",
          "text": [
            "Batch 0/317 processed, running loss: 1.458285, correct predictions: 7, total: 16\n",
            "Batch 10/317 processed, running loss: 15.870673, correct predictions: 99, total: 176\n",
            "Batch 20/317 processed, running loss: 29.371705, correct predictions: 185, total: 336\n",
            "Batch 30/317 processed, running loss: 42.695684, correct predictions: 288, total: 496\n",
            "Batch 40/317 processed, running loss: 57.633296, correct predictions: 404, total: 656\n",
            "Batch 50/317 processed, running loss: 72.367687, correct predictions: 505, total: 816\n",
            "Batch 60/317 processed, running loss: 86.800993, correct predictions: 606, total: 976\n",
            "Batch 70/317 processed, running loss: 100.531054, correct predictions: 713, total: 1136\n",
            "Batch 80/317 processed, running loss: 114.537930, correct predictions: 815, total: 1296\n",
            "Batch 90/317 processed, running loss: 127.939929, correct predictions: 924, total: 1456\n",
            "Batch 100/317 processed, running loss: 142.414940, correct predictions: 1017, total: 1616\n",
            "Batch 110/317 processed, running loss: 156.165756, correct predictions: 1117, total: 1776\n",
            "Batch 120/317 processed, running loss: 169.188742, correct predictions: 1228, total: 1936\n",
            "Batch 130/317 processed, running loss: 183.565548, correct predictions: 1332, total: 2096\n",
            "Batch 140/317 processed, running loss: 197.072480, correct predictions: 1422, total: 2256\n",
            "Batch 150/317 processed, running loss: 210.300147, correct predictions: 1497, total: 2416\n",
            "Batch 160/317 processed, running loss: 224.113951, correct predictions: 1578, total: 2576\n",
            "Batch 170/317 processed, running loss: 237.684252, correct predictions: 1683, total: 2736\n",
            "Batch 180/317 processed, running loss: 251.704904, correct predictions: 1784, total: 2896\n",
            "Batch 190/317 processed, running loss: 263.700001, correct predictions: 1903, total: 3056\n",
            "Batch 200/317 processed, running loss: 277.145437, correct predictions: 2007, total: 3216\n",
            "Batch 210/317 processed, running loss: 290.592041, correct predictions: 2096, total: 3376\n",
            "Batch 220/317 processed, running loss: 304.115005, correct predictions: 2179, total: 3536\n",
            "Batch 230/317 processed, running loss: 316.534652, correct predictions: 2280, total: 3696\n",
            "Batch 240/317 processed, running loss: 329.949244, correct predictions: 2375, total: 3856\n",
            "Batch 250/317 processed, running loss: 342.826306, correct predictions: 2477, total: 4016\n",
            "Batch 260/317 processed, running loss: 354.964238, correct predictions: 2581, total: 4176\n",
            "Batch 270/317 processed, running loss: 367.523425, correct predictions: 2693, total: 4336\n",
            "Batch 280/317 processed, running loss: 380.853008, correct predictions: 2792, total: 4496\n",
            "Batch 290/317 processed, running loss: 393.236343, correct predictions: 2890, total: 4656\n",
            "Batch 300/317 processed, running loss: 406.429407, correct predictions: 2984, total: 4816\n",
            "Batch 310/317 processed, running loss: 419.845990, correct predictions: 3056, total: 4976\n",
            "\n",
            "Training Loss per batch = 1.345331\tAccuracy on Training set = 61.161596% [3096/5062]\n",
            "\n",
            "Validation Loss per batch = 1.232114\tAccuracy on Validation set = 35.168739% [198/563]\n",
            "Train Loss: 1.3453, Train Accuracy: 61.1616\n",
            "Valid Loss: 1.2321, Valid Accuracy: 35.1687\n",
            "\n",
            "Epoch 3/30\n",
            "-------------------------------\n",
            "Epoch: 2, Learning Rate: 0.005000 \n"
          ]
        },
        {
          "output_type": "stream",
          "name": "stderr",
          "text": [
            "<ipython-input-16-473e11fd7032>:61: FutureWarning: The frame.append method is deprecated and will be removed from pandas in a future version. Use pandas.concat instead.\n",
            "  df = df.append({'epoch': epoch+1, 'train_loss': train_loss, 'train_accuracy': train_accuracy, 'valid_loss': valid_loss, 'valid_accuracy': valid_accuracy}, ignore_index=True)\n"
          ]
        },
        {
          "output_type": "stream",
          "name": "stdout",
          "text": [
            "Batch 0/317 processed, running loss: 1.138419, correct predictions: 6, total: 16\n",
            "Batch 10/317 processed, running loss: 11.701462, correct predictions: 95, total: 176\n",
            "Batch 20/317 processed, running loss: 22.968112, correct predictions: 198, total: 336\n",
            "Batch 30/317 processed, running loss: 33.392782, correct predictions: 292, total: 496\n",
            "Batch 40/317 processed, running loss: 43.854609, correct predictions: 397, total: 656\n",
            "Batch 50/317 processed, running loss: 56.334195, correct predictions: 516, total: 816\n",
            "Batch 60/317 processed, running loss: 69.501661, correct predictions: 622, total: 976\n",
            "Batch 70/317 processed, running loss: 81.844351, correct predictions: 722, total: 1136\n",
            "Batch 80/317 processed, running loss: 95.266005, correct predictions: 795, total: 1296\n",
            "Batch 90/317 processed, running loss: 105.819633, correct predictions: 889, total: 1456\n",
            "Batch 100/317 processed, running loss: 117.654137, correct predictions: 977, total: 1616\n",
            "Batch 110/317 processed, running loss: 127.768571, correct predictions: 1068, total: 1776\n",
            "Batch 120/317 processed, running loss: 140.093246, correct predictions: 1160, total: 1936\n",
            "Batch 130/317 processed, running loss: 152.214658, correct predictions: 1241, total: 2096\n",
            "Batch 140/317 processed, running loss: 163.843931, correct predictions: 1324, total: 2256\n",
            "Batch 150/317 processed, running loss: 175.228774, correct predictions: 1411, total: 2416\n",
            "Batch 160/317 processed, running loss: 186.826829, correct predictions: 1530, total: 2576\n",
            "Batch 170/317 processed, running loss: 197.798181, correct predictions: 1637, total: 2736\n",
            "Batch 180/317 processed, running loss: 209.093360, correct predictions: 1723, total: 2896\n",
            "Batch 190/317 processed, running loss: 222.524986, correct predictions: 1816, total: 3056\n",
            "Batch 200/317 processed, running loss: 235.030423, correct predictions: 1908, total: 3216\n",
            "Batch 210/317 processed, running loss: 248.846477, correct predictions: 2005, total: 3376\n",
            "Batch 220/317 processed, running loss: 262.064474, correct predictions: 2104, total: 3536\n",
            "Batch 230/317 processed, running loss: 274.615000, correct predictions: 2200, total: 3696\n",
            "Batch 240/317 processed, running loss: 286.515936, correct predictions: 2307, total: 3856\n",
            "Batch 250/317 processed, running loss: 297.421655, correct predictions: 2414, total: 4016\n",
            "Batch 260/317 processed, running loss: 309.511871, correct predictions: 2517, total: 4176\n",
            "Batch 270/317 processed, running loss: 321.377706, correct predictions: 2621, total: 4336\n",
            "Batch 280/317 processed, running loss: 332.999538, correct predictions: 2690, total: 4496\n",
            "Batch 290/317 processed, running loss: 344.315880, correct predictions: 2747, total: 4656\n",
            "Batch 300/317 processed, running loss: 356.574297, correct predictions: 2836, total: 4816\n",
            "Batch 310/317 processed, running loss: 367.553128, correct predictions: 2923, total: 4976\n",
            "\n",
            "Training Loss per batch = 1.180526\tAccuracy on Training set = 58.494666% [2961/5062]\n",
            "\n",
            "Validation Loss per batch = 1.129483\tAccuracy on Validation set = 70.515098% [397/563]\n",
            "Train Loss: 1.1805, Train Accuracy: 58.4947\n",
            "Valid Loss: 1.1295, Valid Accuracy: 70.5151\n",
            "\n",
            "Epoch 4/30\n",
            "-------------------------------\n",
            "Epoch: 3, Learning Rate: 0.005000 \n"
          ]
        },
        {
          "output_type": "stream",
          "name": "stderr",
          "text": [
            "<ipython-input-16-473e11fd7032>:61: FutureWarning: The frame.append method is deprecated and will be removed from pandas in a future version. Use pandas.concat instead.\n",
            "  df = df.append({'epoch': epoch+1, 'train_loss': train_loss, 'train_accuracy': train_accuracy, 'valid_loss': valid_loss, 'valid_accuracy': valid_accuracy}, ignore_index=True)\n"
          ]
        },
        {
          "output_type": "stream",
          "name": "stdout",
          "text": [
            "Batch 0/317 processed, running loss: 1.159321, correct predictions: 12, total: 16\n",
            "Batch 10/317 processed, running loss: 11.240977, correct predictions: 116, total: 176\n",
            "Batch 20/317 processed, running loss: 22.730172, correct predictions: 201, total: 336\n",
            "Batch 30/317 processed, running loss: 33.779232, correct predictions: 296, total: 496\n",
            "Batch 40/317 processed, running loss: 43.397757, correct predictions: 401, total: 656\n",
            "Batch 50/317 processed, running loss: 57.062772, correct predictions: 488, total: 816\n",
            "Batch 60/317 processed, running loss: 66.683639, correct predictions: 608, total: 976\n",
            "Batch 70/317 processed, running loss: 77.153212, correct predictions: 715, total: 1136\n",
            "Batch 80/317 processed, running loss: 89.902571, correct predictions: 805, total: 1296\n",
            "Batch 90/317 processed, running loss: 102.062816, correct predictions: 902, total: 1456\n",
            "Batch 100/317 processed, running loss: 114.068760, correct predictions: 979, total: 1616\n",
            "Batch 110/317 processed, running loss: 124.275646, correct predictions: 1044, total: 1776\n",
            "Batch 120/317 processed, running loss: 135.729151, correct predictions: 1115, total: 1936\n",
            "Batch 130/317 processed, running loss: 145.782440, correct predictions: 1233, total: 2096\n",
            "Batch 140/317 processed, running loss: 156.762928, correct predictions: 1343, total: 2256\n",
            "Batch 150/317 processed, running loss: 166.430342, correct predictions: 1459, total: 2416\n",
            "Batch 160/317 processed, running loss: 178.161723, correct predictions: 1556, total: 2576\n",
            "Batch 170/317 processed, running loss: 188.842341, correct predictions: 1652, total: 2736\n",
            "Batch 180/317 processed, running loss: 199.153521, correct predictions: 1753, total: 2896\n",
            "Batch 190/317 processed, running loss: 211.668096, correct predictions: 1832, total: 3056\n",
            "Batch 200/317 processed, running loss: 221.368477, correct predictions: 1938, total: 3216\n",
            "Batch 210/317 processed, running loss: 232.160365, correct predictions: 2023, total: 3376\n",
            "Batch 220/317 processed, running loss: 242.927497, correct predictions: 2130, total: 3536\n",
            "Batch 230/317 processed, running loss: 252.330232, correct predictions: 2246, total: 3696\n",
            "Batch 240/317 processed, running loss: 263.162148, correct predictions: 2347, total: 3856\n",
            "Batch 250/317 processed, running loss: 275.269052, correct predictions: 2433, total: 4016\n",
            "Batch 260/317 processed, running loss: 285.017478, correct predictions: 2525, total: 4176\n",
            "Batch 270/317 processed, running loss: 295.160246, correct predictions: 2629, total: 4336\n",
            "Batch 280/317 processed, running loss: 307.205678, correct predictions: 2702, total: 4496\n",
            "Batch 290/317 processed, running loss: 317.193192, correct predictions: 2779, total: 4656\n",
            "Batch 300/317 processed, running loss: 327.618113, correct predictions: 2875, total: 4816\n",
            "Batch 310/317 processed, running loss: 337.736360, correct predictions: 2986, total: 4976\n",
            "\n",
            "Training Loss per batch = 1.082642\tAccuracy on Training set = 60.331885% [3054/5062]\n",
            "\n",
            "Validation Loss per batch = 1.097649\tAccuracy on Validation set = 77.442274% [436/563]\n",
            "Train Loss: 1.0826, Train Accuracy: 60.3319\n",
            "Valid Loss: 1.0976, Valid Accuracy: 77.4423\n",
            "\n",
            "Epoch 5/30\n",
            "-------------------------------\n",
            "Epoch: 4, Learning Rate: 0.002500 \n"
          ]
        },
        {
          "output_type": "stream",
          "name": "stderr",
          "text": [
            "<ipython-input-16-473e11fd7032>:61: FutureWarning: The frame.append method is deprecated and will be removed from pandas in a future version. Use pandas.concat instead.\n",
            "  df = df.append({'epoch': epoch+1, 'train_loss': train_loss, 'train_accuracy': train_accuracy, 'valid_loss': valid_loss, 'valid_accuracy': valid_accuracy}, ignore_index=True)\n"
          ]
        },
        {
          "output_type": "stream",
          "name": "stdout",
          "text": [
            "Batch 0/317 processed, running loss: 1.096126, correct predictions: 11, total: 16\n",
            "Batch 10/317 processed, running loss: 10.731792, correct predictions: 129, total: 176\n",
            "Batch 20/317 processed, running loss: 20.067113, correct predictions: 253, total: 336\n",
            "Batch 30/317 processed, running loss: 29.861064, correct predictions: 358, total: 496\n",
            "Batch 40/317 processed, running loss: 39.048565, correct predictions: 479, total: 656\n",
            "Batch 50/317 processed, running loss: 49.424489, correct predictions: 597, total: 816\n",
            "Batch 60/317 processed, running loss: 58.012194, correct predictions: 714, total: 976\n",
            "Batch 70/317 processed, running loss: 67.986476, correct predictions: 813, total: 1136\n",
            "Batch 80/317 processed, running loss: 77.256315, correct predictions: 896, total: 1296\n",
            "Batch 90/317 processed, running loss: 87.016682, correct predictions: 971, total: 1456\n",
            "Batch 100/317 processed, running loss: 96.730724, correct predictions: 1067, total: 1616\n",
            "Batch 110/317 processed, running loss: 106.802006, correct predictions: 1164, total: 1776\n",
            "Batch 120/317 processed, running loss: 117.677155, correct predictions: 1267, total: 1936\n",
            "Batch 130/317 processed, running loss: 126.154708, correct predictions: 1384, total: 2096\n",
            "Batch 140/317 processed, running loss: 136.052236, correct predictions: 1494, total: 2256\n",
            "Batch 150/317 processed, running loss: 145.063995, correct predictions: 1588, total: 2416\n",
            "Batch 160/317 processed, running loss: 155.739024, correct predictions: 1683, total: 2576\n",
            "Batch 170/317 processed, running loss: 165.944426, correct predictions: 1790, total: 2736\n",
            "Batch 180/317 processed, running loss: 175.813922, correct predictions: 1896, total: 2896\n",
            "Batch 190/317 processed, running loss: 185.924658, correct predictions: 2005, total: 3056\n",
            "Batch 200/317 processed, running loss: 194.953883, correct predictions: 2101, total: 3216\n",
            "Batch 210/317 processed, running loss: 204.866924, correct predictions: 2193, total: 3376\n",
            "Batch 220/317 processed, running loss: 214.033484, correct predictions: 2314, total: 3536\n",
            "Batch 230/317 processed, running loss: 223.747891, correct predictions: 2440, total: 3696\n",
            "Batch 240/317 processed, running loss: 233.732633, correct predictions: 2553, total: 3856\n",
            "Batch 250/317 processed, running loss: 243.796436, correct predictions: 2673, total: 4016\n",
            "Batch 260/317 processed, running loss: 253.817703, correct predictions: 2779, total: 4176\n",
            "Batch 270/317 processed, running loss: 263.401991, correct predictions: 2889, total: 4336\n",
            "Batch 280/317 processed, running loss: 273.500490, correct predictions: 2991, total: 4496\n",
            "Batch 290/317 processed, running loss: 281.601827, correct predictions: 3094, total: 4656\n",
            "Batch 300/317 processed, running loss: 290.893453, correct predictions: 3202, total: 4816\n",
            "Batch 310/317 processed, running loss: 301.053360, correct predictions: 3298, total: 4976\n",
            "\n",
            "Training Loss per batch = 0.969896\tAccuracy on Training set = 66.120111% [3347/5062]\n",
            "\n",
            "Validation Loss per batch = 1.024099\tAccuracy on Validation set = 63.055062% [355/563]\n",
            "Train Loss: 0.9699, Train Accuracy: 66.1201\n",
            "Valid Loss: 1.0241, Valid Accuracy: 63.0551\n",
            "\n",
            "Epoch 6/30\n",
            "-------------------------------\n",
            "Epoch: 5, Learning Rate: 0.002500 \n"
          ]
        },
        {
          "output_type": "stream",
          "name": "stderr",
          "text": [
            "<ipython-input-16-473e11fd7032>:61: FutureWarning: The frame.append method is deprecated and will be removed from pandas in a future version. Use pandas.concat instead.\n",
            "  df = df.append({'epoch': epoch+1, 'train_loss': train_loss, 'train_accuracy': train_accuracy, 'valid_loss': valid_loss, 'valid_accuracy': valid_accuracy}, ignore_index=True)\n"
          ]
        },
        {
          "output_type": "stream",
          "name": "stdout",
          "text": [
            "Batch 0/317 processed, running loss: 0.668259, correct predictions: 10, total: 16\n",
            "Batch 10/317 processed, running loss: 10.257778, correct predictions: 104, total: 176\n",
            "Batch 20/317 processed, running loss: 22.073224, correct predictions: 206, total: 336\n",
            "Batch 30/317 processed, running loss: 30.578822, correct predictions: 302, total: 496\n",
            "Batch 40/317 processed, running loss: 38.784549, correct predictions: 418, total: 656\n",
            "Batch 50/317 processed, running loss: 48.250091, correct predictions: 538, total: 816\n",
            "Batch 60/317 processed, running loss: 57.327318, correct predictions: 640, total: 976\n",
            "Batch 70/317 processed, running loss: 65.675317, correct predictions: 731, total: 1136\n",
            "Batch 80/317 processed, running loss: 73.625316, correct predictions: 844, total: 1296\n",
            "Batch 90/317 processed, running loss: 81.939067, correct predictions: 951, total: 1456\n",
            "Batch 100/317 processed, running loss: 90.163284, correct predictions: 1059, total: 1616\n",
            "Batch 110/317 processed, running loss: 98.168192, correct predictions: 1179, total: 1776\n",
            "Batch 120/317 processed, running loss: 107.599851, correct predictions: 1298, total: 1936\n",
            "Batch 130/317 processed, running loss: 116.022920, correct predictions: 1421, total: 2096\n",
            "Batch 140/317 processed, running loss: 124.812327, correct predictions: 1531, total: 2256\n",
            "Batch 150/317 processed, running loss: 133.125135, correct predictions: 1641, total: 2416\n",
            "Batch 160/317 processed, running loss: 141.053409, correct predictions: 1748, total: 2576\n",
            "Batch 170/317 processed, running loss: 149.440723, correct predictions: 1852, total: 2736\n",
            "Batch 180/317 processed, running loss: 157.815407, correct predictions: 1961, total: 2896\n",
            "Batch 190/317 processed, running loss: 167.105267, correct predictions: 2058, total: 3056\n",
            "Batch 200/317 processed, running loss: 176.998925, correct predictions: 2172, total: 3216\n",
            "Batch 210/317 processed, running loss: 185.383770, correct predictions: 2290, total: 3376\n",
            "Batch 220/317 processed, running loss: 192.979476, correct predictions: 2409, total: 3536\n",
            "Batch 230/317 processed, running loss: 202.860326, correct predictions: 2514, total: 3696\n",
            "Batch 240/317 processed, running loss: 212.142510, correct predictions: 2630, total: 3856\n",
            "Batch 250/317 processed, running loss: 221.794786, correct predictions: 2735, total: 4016\n",
            "Batch 260/317 processed, running loss: 230.913027, correct predictions: 2853, total: 4176\n",
            "Batch 270/317 processed, running loss: 238.514310, correct predictions: 2962, total: 4336\n",
            "Batch 280/317 processed, running loss: 245.870502, correct predictions: 3053, total: 4496\n",
            "Batch 290/317 processed, running loss: 254.444054, correct predictions: 3163, total: 4656\n",
            "Batch 300/317 processed, running loss: 262.395536, correct predictions: 3277, total: 4816\n",
            "Batch 310/317 processed, running loss: 270.334560, correct predictions: 3397, total: 4976\n",
            "\n",
            "Training Loss per batch = 0.880731\tAccuracy on Training set = 68.056104% [3445/5062]\n",
            "\n",
            "Validation Loss per batch = 1.077855\tAccuracy on Validation set = 68.561279% [386/563]\n",
            "Train Loss: 0.8807, Train Accuracy: 68.0561\n",
            "Valid Loss: 1.0779, Valid Accuracy: 68.5613\n",
            "\n",
            "Epoch 7/30\n",
            "-------------------------------\n",
            "Epoch: 6, Learning Rate: 0.002500 \n"
          ]
        },
        {
          "output_type": "stream",
          "name": "stderr",
          "text": [
            "<ipython-input-16-473e11fd7032>:61: FutureWarning: The frame.append method is deprecated and will be removed from pandas in a future version. Use pandas.concat instead.\n",
            "  df = df.append({'epoch': epoch+1, 'train_loss': train_loss, 'train_accuracy': train_accuracy, 'valid_loss': valid_loss, 'valid_accuracy': valid_accuracy}, ignore_index=True)\n"
          ]
        },
        {
          "output_type": "stream",
          "name": "stdout",
          "text": [
            "Batch 0/317 processed, running loss: 0.884307, correct predictions: 10, total: 16\n",
            "Batch 10/317 processed, running loss: 8.095816, correct predictions: 111, total: 176\n",
            "Batch 20/317 processed, running loss: 16.170110, correct predictions: 211, total: 336\n",
            "Batch 30/317 processed, running loss: 24.316319, correct predictions: 319, total: 496\n",
            "Batch 40/317 processed, running loss: 32.516294, correct predictions: 419, total: 656\n",
            "Batch 50/317 processed, running loss: 40.325055, correct predictions: 536, total: 816\n",
            "Batch 60/317 processed, running loss: 47.249057, correct predictions: 644, total: 976\n",
            "Batch 70/317 processed, running loss: 55.488066, correct predictions: 760, total: 1136\n",
            "Batch 80/317 processed, running loss: 65.127317, correct predictions: 874, total: 1296\n",
            "Batch 90/317 processed, running loss: 74.928987, correct predictions: 982, total: 1456\n",
            "Batch 100/317 processed, running loss: 82.292369, correct predictions: 1089, total: 1616\n",
            "Batch 110/317 processed, running loss: 89.826161, correct predictions: 1208, total: 1776\n",
            "Batch 120/317 processed, running loss: 97.247949, correct predictions: 1327, total: 1936\n",
            "Batch 130/317 processed, running loss: 104.480259, correct predictions: 1432, total: 2096\n",
            "Batch 140/317 processed, running loss: 112.815644, correct predictions: 1532, total: 2256\n",
            "Batch 150/317 processed, running loss: 120.949460, correct predictions: 1649, total: 2416\n",
            "Batch 160/317 processed, running loss: 128.086582, correct predictions: 1776, total: 2576\n",
            "Batch 170/317 processed, running loss: 137.031875, correct predictions: 1888, total: 2736\n",
            "Batch 180/317 processed, running loss: 144.831628, correct predictions: 1996, total: 2896\n",
            "Batch 190/317 processed, running loss: 153.602900, correct predictions: 2119, total: 3056\n",
            "Batch 200/317 processed, running loss: 162.330338, correct predictions: 2220, total: 3216\n",
            "Batch 210/317 processed, running loss: 170.274950, correct predictions: 2311, total: 3376\n",
            "Batch 220/317 processed, running loss: 180.763022, correct predictions: 2414, total: 3536\n",
            "Batch 230/317 processed, running loss: 188.610139, correct predictions: 2523, total: 3696\n",
            "Batch 240/317 processed, running loss: 196.704963, correct predictions: 2627, total: 3856\n",
            "Batch 250/317 processed, running loss: 205.028638, correct predictions: 2729, total: 4016\n",
            "Batch 260/317 processed, running loss: 213.433256, correct predictions: 2839, total: 4176\n",
            "Batch 270/317 processed, running loss: 220.596107, correct predictions: 2950, total: 4336\n",
            "Batch 280/317 processed, running loss: 228.190291, correct predictions: 3067, total: 4496\n",
            "Batch 290/317 processed, running loss: 237.294351, correct predictions: 3183, total: 4656\n",
            "Batch 300/317 processed, running loss: 245.379708, correct predictions: 3311, total: 4816\n",
            "Batch 310/317 processed, running loss: 254.641002, correct predictions: 3436, total: 4976\n",
            "\n",
            "Training Loss per batch = 0.819335\tAccuracy on Training set = 69.103121% [3498/5062]\n",
            "\n",
            "Validation Loss per batch = 1.040635\tAccuracy on Validation set = 76.376554% [430/563]\n",
            "Train Loss: 0.8193, Train Accuracy: 69.1031\n",
            "Valid Loss: 1.0406, Valid Accuracy: 76.3766\n",
            "\n",
            "Epoch 8/30\n",
            "-------------------------------\n",
            "Epoch: 7, Learning Rate: 0.002500 \n"
          ]
        },
        {
          "output_type": "stream",
          "name": "stderr",
          "text": [
            "<ipython-input-16-473e11fd7032>:61: FutureWarning: The frame.append method is deprecated and will be removed from pandas in a future version. Use pandas.concat instead.\n",
            "  df = df.append({'epoch': epoch+1, 'train_loss': train_loss, 'train_accuracy': train_accuracy, 'valid_loss': valid_loss, 'valid_accuracy': valid_accuracy}, ignore_index=True)\n"
          ]
        },
        {
          "output_type": "stream",
          "name": "stdout",
          "text": [
            "Batch 0/317 processed, running loss: 0.366864, correct predictions: 16, total: 16\n",
            "Batch 10/317 processed, running loss: 7.982557, correct predictions: 129, total: 176\n",
            "Batch 20/317 processed, running loss: 15.855473, correct predictions: 244, total: 336\n",
            "Batch 30/317 processed, running loss: 21.886430, correct predictions: 354, total: 496\n",
            "Batch 40/317 processed, running loss: 30.548176, correct predictions: 465, total: 656\n",
            "Batch 50/317 processed, running loss: 38.292686, correct predictions: 576, total: 816\n",
            "Batch 60/317 processed, running loss: 45.569128, correct predictions: 686, total: 976\n",
            "Batch 70/317 processed, running loss: 52.801581, correct predictions: 791, total: 1136\n",
            "Batch 80/317 processed, running loss: 60.706468, correct predictions: 888, total: 1296\n",
            "Batch 90/317 processed, running loss: 67.804854, correct predictions: 991, total: 1456\n",
            "Batch 100/317 processed, running loss: 75.140391, correct predictions: 1115, total: 1616\n",
            "Batch 110/317 processed, running loss: 81.994740, correct predictions: 1241, total: 1776\n",
            "Batch 120/317 processed, running loss: 90.603091, correct predictions: 1360, total: 1936\n",
            "Batch 130/317 processed, running loss: 97.387587, correct predictions: 1488, total: 2096\n",
            "Batch 140/317 processed, running loss: 103.288962, correct predictions: 1619, total: 2256\n",
            "Batch 150/317 processed, running loss: 110.322073, correct predictions: 1730, total: 2416\n",
            "Batch 160/317 processed, running loss: 118.309779, correct predictions: 1834, total: 2576\n",
            "Batch 170/317 processed, running loss: 124.627525, correct predictions: 1955, total: 2736\n",
            "Batch 180/317 processed, running loss: 130.987470, correct predictions: 2060, total: 2896\n",
            "Batch 190/317 processed, running loss: 138.101469, correct predictions: 2167, total: 3056\n",
            "Batch 200/317 processed, running loss: 145.255268, correct predictions: 2284, total: 3216\n",
            "Batch 210/317 processed, running loss: 152.144681, correct predictions: 2400, total: 3376\n",
            "Batch 220/317 processed, running loss: 160.032285, correct predictions: 2505, total: 3536\n",
            "Batch 230/317 processed, running loss: 167.979773, correct predictions: 2603, total: 3696\n",
            "Batch 240/317 processed, running loss: 175.461438, correct predictions: 2700, total: 3856\n",
            "Batch 250/317 processed, running loss: 183.187569, correct predictions: 2813, total: 4016\n",
            "Batch 260/317 processed, running loss: 191.067867, correct predictions: 2916, total: 4176\n",
            "Batch 270/317 processed, running loss: 199.114518, correct predictions: 3011, total: 4336\n",
            "Batch 280/317 processed, running loss: 207.913636, correct predictions: 3105, total: 4496\n",
            "Batch 290/317 processed, running loss: 214.517162, correct predictions: 3218, total: 4656\n",
            "Batch 300/317 processed, running loss: 221.890777, correct predictions: 3332, total: 4816\n",
            "Batch 310/317 processed, running loss: 228.718337, correct predictions: 3444, total: 4976\n",
            "\n",
            "Training Loss per batch = 0.739680\tAccuracy on Training set = 69.182141% [3502/5062]\n",
            "\n",
            "Validation Loss per batch = 1.066678\tAccuracy on Validation set = 73.712256% [415/563]\n",
            "Train Loss: 0.7397, Train Accuracy: 69.1821\n",
            "Valid Loss: 1.0667, Valid Accuracy: 73.7123\n",
            "\n",
            "Epoch 9/30\n",
            "-------------------------------\n",
            "Epoch: 8, Learning Rate: 0.001250 \n"
          ]
        },
        {
          "output_type": "stream",
          "name": "stderr",
          "text": [
            "<ipython-input-16-473e11fd7032>:61: FutureWarning: The frame.append method is deprecated and will be removed from pandas in a future version. Use pandas.concat instead.\n",
            "  df = df.append({'epoch': epoch+1, 'train_loss': train_loss, 'train_accuracy': train_accuracy, 'valid_loss': valid_loss, 'valid_accuracy': valid_accuracy}, ignore_index=True)\n"
          ]
        },
        {
          "output_type": "stream",
          "name": "stdout",
          "text": [
            "Batch 0/317 processed, running loss: 0.440523, correct predictions: 12, total: 16\n",
            "Batch 10/317 processed, running loss: 8.378478, correct predictions: 132, total: 176\n",
            "Batch 20/317 processed, running loss: 16.635940, correct predictions: 251, total: 336\n",
            "Batch 30/317 processed, running loss: 24.472936, correct predictions: 369, total: 496\n",
            "Batch 40/317 processed, running loss: 30.130442, correct predictions: 492, total: 656\n",
            "Batch 50/317 processed, running loss: 36.739494, correct predictions: 610, total: 816\n",
            "Batch 60/317 processed, running loss: 44.227235, correct predictions: 739, total: 976\n",
            "Batch 70/317 processed, running loss: 50.119220, correct predictions: 865, total: 1136\n",
            "Batch 80/317 processed, running loss: 57.228194, correct predictions: 981, total: 1296\n",
            "Batch 90/317 processed, running loss: 63.973342, correct predictions: 1108, total: 1456\n",
            "Batch 100/317 processed, running loss: 71.574470, correct predictions: 1221, total: 1616\n",
            "Batch 110/317 processed, running loss: 77.921774, correct predictions: 1336, total: 1776\n",
            "Batch 120/317 processed, running loss: 86.507065, correct predictions: 1431, total: 1936\n",
            "Batch 130/317 processed, running loss: 92.707129, correct predictions: 1537, total: 2096\n",
            "Batch 140/317 processed, running loss: 99.526274, correct predictions: 1653, total: 2256\n",
            "Batch 150/317 processed, running loss: 105.856649, correct predictions: 1771, total: 2416\n",
            "Batch 160/317 processed, running loss: 111.920015, correct predictions: 1885, total: 2576\n",
            "Batch 170/317 processed, running loss: 118.786572, correct predictions: 1985, total: 2736\n",
            "Batch 180/317 processed, running loss: 125.040160, correct predictions: 2094, total: 2896\n",
            "Batch 190/317 processed, running loss: 130.962782, correct predictions: 2204, total: 3056\n",
            "Batch 200/317 processed, running loss: 136.290631, correct predictions: 2324, total: 3216\n",
            "Batch 210/317 processed, running loss: 142.068634, correct predictions: 2429, total: 3376\n",
            "Batch 220/317 processed, running loss: 148.011338, correct predictions: 2542, total: 3536\n",
            "Batch 230/317 processed, running loss: 154.261004, correct predictions: 2655, total: 3696\n",
            "Batch 240/317 processed, running loss: 161.088547, correct predictions: 2782, total: 3856\n",
            "Batch 250/317 processed, running loss: 165.549302, correct predictions: 2906, total: 4016\n",
            "Batch 260/317 processed, running loss: 171.909391, correct predictions: 3018, total: 4176\n",
            "Batch 270/317 processed, running loss: 177.392558, correct predictions: 3138, total: 4336\n",
            "Batch 280/317 processed, running loss: 183.948577, correct predictions: 3263, total: 4496\n",
            "Batch 290/317 processed, running loss: 190.344056, correct predictions: 3380, total: 4656\n",
            "Batch 300/317 processed, running loss: 195.874064, correct predictions: 3494, total: 4816\n",
            "Batch 310/317 processed, running loss: 202.167068, correct predictions: 3613, total: 4976\n",
            "\n",
            "Training Loss per batch = 0.651753\tAccuracy on Training set = 72.678783% [3679/5062]\n",
            "\n",
            "Validation Loss per batch = 1.008136\tAccuracy on Validation set = 74.067496% [417/563]\n",
            "Train Loss: 0.6518, Train Accuracy: 72.6788\n",
            "Valid Loss: 1.0081, Valid Accuracy: 74.0675\n",
            "\n",
            "Epoch 10/30\n",
            "-------------------------------\n",
            "Epoch: 9, Learning Rate: 0.001250 \n"
          ]
        },
        {
          "output_type": "stream",
          "name": "stderr",
          "text": [
            "<ipython-input-16-473e11fd7032>:61: FutureWarning: The frame.append method is deprecated and will be removed from pandas in a future version. Use pandas.concat instead.\n",
            "  df = df.append({'epoch': epoch+1, 'train_loss': train_loss, 'train_accuracy': train_accuracy, 'valid_loss': valid_loss, 'valid_accuracy': valid_accuracy}, ignore_index=True)\n"
          ]
        },
        {
          "output_type": "stream",
          "name": "stdout",
          "text": [
            "Batch 0/317 processed, running loss: 0.281973, correct predictions: 15, total: 16\n",
            "Batch 10/317 processed, running loss: 5.987103, correct predictions: 146, total: 176\n",
            "Batch 20/317 processed, running loss: 12.503281, correct predictions: 275, total: 336\n",
            "Batch 30/317 processed, running loss: 19.228552, correct predictions: 391, total: 496\n",
            "Batch 40/317 processed, running loss: 24.833413, correct predictions: 514, total: 656\n",
            "Batch 50/317 processed, running loss: 30.838783, correct predictions: 635, total: 816\n",
            "Batch 60/317 processed, running loss: 37.015245, correct predictions: 751, total: 976\n",
            "Batch 70/317 processed, running loss: 42.672630, correct predictions: 876, total: 1136\n",
            "Batch 80/317 processed, running loss: 48.295395, correct predictions: 1001, total: 1296\n",
            "Batch 90/317 processed, running loss: 55.711838, correct predictions: 1120, total: 1456\n",
            "Batch 100/317 processed, running loss: 61.594987, correct predictions: 1249, total: 1616\n",
            "Batch 110/317 processed, running loss: 67.815647, correct predictions: 1369, total: 1776\n",
            "Batch 120/317 processed, running loss: 73.309784, correct predictions: 1491, total: 1936\n",
            "Batch 130/317 processed, running loss: 79.089173, correct predictions: 1606, total: 2096\n",
            "Batch 140/317 processed, running loss: 85.006737, correct predictions: 1721, total: 2256\n",
            "Batch 150/317 processed, running loss: 91.560706, correct predictions: 1846, total: 2416\n",
            "Batch 160/317 processed, running loss: 98.211659, correct predictions: 1965, total: 2576\n",
            "Batch 170/317 processed, running loss: 104.596933, correct predictions: 2085, total: 2736\n",
            "Batch 180/317 processed, running loss: 110.100174, correct predictions: 2211, total: 2896\n",
            "Batch 190/317 processed, running loss: 116.339356, correct predictions: 2328, total: 3056\n",
            "Batch 200/317 processed, running loss: 121.420509, correct predictions: 2455, total: 3216\n",
            "Batch 210/317 processed, running loss: 126.789860, correct predictions: 2559, total: 3376\n",
            "Batch 220/317 processed, running loss: 132.721664, correct predictions: 2681, total: 3536\n",
            "Batch 230/317 processed, running loss: 137.938739, correct predictions: 2805, total: 3696\n",
            "Batch 240/317 processed, running loss: 144.092017, correct predictions: 2926, total: 3856\n",
            "Batch 250/317 processed, running loss: 150.107149, correct predictions: 3046, total: 4016\n",
            "Batch 260/317 processed, running loss: 157.922089, correct predictions: 3166, total: 4176\n",
            "Batch 270/317 processed, running loss: 163.942891, correct predictions: 3281, total: 4336\n",
            "Batch 280/317 processed, running loss: 168.442456, correct predictions: 3398, total: 4496\n",
            "Batch 290/317 processed, running loss: 174.150234, correct predictions: 3523, total: 4656\n",
            "Batch 300/317 processed, running loss: 180.398302, correct predictions: 3644, total: 4816\n",
            "Batch 310/317 processed, running loss: 186.548128, correct predictions: 3765, total: 4976\n",
            "\n",
            "Training Loss per batch = 0.597327\tAccuracy on Training set = 75.800079% [3837/5062]\n",
            "\n",
            "Validation Loss per batch = 0.994171\tAccuracy on Validation set = 65.896980% [371/563]\n",
            "Train Loss: 0.5973, Train Accuracy: 75.8001\n",
            "Valid Loss: 0.9942, Valid Accuracy: 65.8970\n",
            "\n",
            "Epoch 11/30\n",
            "-------------------------------\n",
            "Epoch: 10, Learning Rate: 0.001250 \n"
          ]
        },
        {
          "output_type": "stream",
          "name": "stderr",
          "text": [
            "<ipython-input-16-473e11fd7032>:61: FutureWarning: The frame.append method is deprecated and will be removed from pandas in a future version. Use pandas.concat instead.\n",
            "  df = df.append({'epoch': epoch+1, 'train_loss': train_loss, 'train_accuracy': train_accuracy, 'valid_loss': valid_loss, 'valid_accuracy': valid_accuracy}, ignore_index=True)\n"
          ]
        },
        {
          "output_type": "stream",
          "name": "stdout",
          "text": [
            "Batch 0/317 processed, running loss: 0.326890, correct predictions: 14, total: 16\n",
            "Batch 10/317 processed, running loss: 5.071904, correct predictions: 136, total: 176\n",
            "Batch 20/317 processed, running loss: 10.685696, correct predictions: 262, total: 336\n",
            "Batch 30/317 processed, running loss: 16.795265, correct predictions: 378, total: 496\n",
            "Batch 40/317 processed, running loss: 22.020424, correct predictions: 491, total: 656\n",
            "Batch 50/317 processed, running loss: 26.429488, correct predictions: 614, total: 816\n",
            "Batch 60/317 processed, running loss: 32.772179, correct predictions: 732, total: 976\n",
            "Batch 70/317 processed, running loss: 42.152377, correct predictions: 845, total: 1136\n",
            "Batch 80/317 processed, running loss: 48.754052, correct predictions: 954, total: 1296\n",
            "Batch 90/317 processed, running loss: 54.949025, correct predictions: 1074, total: 1456\n",
            "Batch 100/317 processed, running loss: 61.687034, correct predictions: 1205, total: 1616\n",
            "Batch 110/317 processed, running loss: 67.333325, correct predictions: 1330, total: 1776\n",
            "Batch 120/317 processed, running loss: 73.164556, correct predictions: 1446, total: 1936\n",
            "Batch 130/317 processed, running loss: 78.817965, correct predictions: 1566, total: 2096\n",
            "Batch 140/317 processed, running loss: 84.820970, correct predictions: 1692, total: 2256\n",
            "Batch 150/317 processed, running loss: 90.206537, correct predictions: 1808, total: 2416\n",
            "Batch 160/317 processed, running loss: 96.983669, correct predictions: 1926, total: 2576\n",
            "Batch 170/317 processed, running loss: 102.902471, correct predictions: 2042, total: 2736\n",
            "Batch 180/317 processed, running loss: 109.968268, correct predictions: 2157, total: 2896\n",
            "Batch 190/317 processed, running loss: 115.605093, correct predictions: 2272, total: 3056\n",
            "Batch 200/317 processed, running loss: 121.210726, correct predictions: 2392, total: 3216\n",
            "Batch 210/317 processed, running loss: 127.730871, correct predictions: 2496, total: 3376\n",
            "Batch 220/317 processed, running loss: 132.899669, correct predictions: 2614, total: 3536\n",
            "Batch 230/317 processed, running loss: 138.808541, correct predictions: 2732, total: 3696\n",
            "Batch 240/317 processed, running loss: 144.814444, correct predictions: 2861, total: 3856\n",
            "Batch 250/317 processed, running loss: 150.725099, correct predictions: 2986, total: 4016\n",
            "Batch 260/317 processed, running loss: 155.369067, correct predictions: 3118, total: 4176\n",
            "Batch 270/317 processed, running loss: 159.686981, correct predictions: 3251, total: 4336\n",
            "Batch 280/317 processed, running loss: 164.602047, correct predictions: 3378, total: 4496\n",
            "Batch 290/317 processed, running loss: 169.101476, correct predictions: 3510, total: 4656\n",
            "Batch 300/317 processed, running loss: 175.629331, correct predictions: 3634, total: 4816\n",
            "Batch 310/317 processed, running loss: 181.245189, correct predictions: 3768, total: 4976\n",
            "\n",
            "Training Loss per batch = 0.585807\tAccuracy on Training set = 75.661794% [3830/5062]\n",
            "\n",
            "Validation Loss per batch = 1.039589\tAccuracy on Validation set = 69.449378% [391/563]\n",
            "Train Loss: 0.5858, Train Accuracy: 75.6618\n",
            "Valid Loss: 1.0396, Valid Accuracy: 69.4494\n",
            "\n",
            "Epoch 12/30\n",
            "-------------------------------\n",
            "Epoch: 11, Learning Rate: 0.001250 \n"
          ]
        },
        {
          "output_type": "stream",
          "name": "stderr",
          "text": [
            "<ipython-input-16-473e11fd7032>:61: FutureWarning: The frame.append method is deprecated and will be removed from pandas in a future version. Use pandas.concat instead.\n",
            "  df = df.append({'epoch': epoch+1, 'train_loss': train_loss, 'train_accuracy': train_accuracy, 'valid_loss': valid_loss, 'valid_accuracy': valid_accuracy}, ignore_index=True)\n"
          ]
        },
        {
          "output_type": "stream",
          "name": "stdout",
          "text": [
            "Batch 0/317 processed, running loss: 0.338427, correct predictions: 15, total: 16\n",
            "Batch 10/317 processed, running loss: 6.234833, correct predictions: 129, total: 176\n",
            "Batch 20/317 processed, running loss: 11.304512, correct predictions: 249, total: 336\n",
            "Batch 30/317 processed, running loss: 16.637125, correct predictions: 368, total: 496\n",
            "Batch 40/317 processed, running loss: 22.474662, correct predictions: 493, total: 656\n",
            "Batch 50/317 processed, running loss: 28.850136, correct predictions: 614, total: 816\n",
            "Batch 60/317 processed, running loss: 33.588104, correct predictions: 754, total: 976\n",
            "Batch 70/317 processed, running loss: 39.763991, correct predictions: 880, total: 1136\n",
            "Batch 80/317 processed, running loss: 45.534149, correct predictions: 1004, total: 1296\n",
            "Batch 90/317 processed, running loss: 50.948426, correct predictions: 1129, total: 1456\n",
            "Batch 100/317 processed, running loss: 57.198277, correct predictions: 1256, total: 1616\n",
            "Batch 110/317 processed, running loss: 62.038848, correct predictions: 1381, total: 1776\n",
            "Batch 120/317 processed, running loss: 66.619581, correct predictions: 1511, total: 1936\n",
            "Batch 130/317 processed, running loss: 71.518541, correct predictions: 1634, total: 2096\n",
            "Batch 140/317 processed, running loss: 76.314455, correct predictions: 1746, total: 2256\n",
            "Batch 150/317 processed, running loss: 80.816525, correct predictions: 1870, total: 2416\n",
            "Batch 160/317 processed, running loss: 86.280922, correct predictions: 1986, total: 2576\n",
            "Batch 170/317 processed, running loss: 90.984242, correct predictions: 2102, total: 2736\n",
            "Batch 180/317 processed, running loss: 96.566971, correct predictions: 2221, total: 2896\n",
            "Batch 190/317 processed, running loss: 102.233811, correct predictions: 2339, total: 3056\n",
            "Batch 200/317 processed, running loss: 108.181129, correct predictions: 2465, total: 3216\n",
            "Batch 210/317 processed, running loss: 113.700438, correct predictions: 2593, total: 3376\n",
            "Batch 220/317 processed, running loss: 118.831808, correct predictions: 2720, total: 3536\n",
            "Batch 230/317 processed, running loss: 123.446410, correct predictions: 2845, total: 3696\n",
            "Batch 240/317 processed, running loss: 129.425802, correct predictions: 2963, total: 3856\n",
            "Batch 250/317 processed, running loss: 135.018383, correct predictions: 3085, total: 4016\n",
            "Batch 260/317 processed, running loss: 140.349819, correct predictions: 3214, total: 4176\n",
            "Batch 270/317 processed, running loss: 145.859377, correct predictions: 3348, total: 4336\n",
            "Batch 280/317 processed, running loss: 151.433959, correct predictions: 3475, total: 4496\n",
            "Batch 290/317 processed, running loss: 156.503824, correct predictions: 3605, total: 4656\n",
            "Batch 300/317 processed, running loss: 160.610106, correct predictions: 3721, total: 4816\n",
            "Batch 310/317 processed, running loss: 165.371369, correct predictions: 3851, total: 4976\n",
            "\n",
            "Training Loss per batch = 0.529512\tAccuracy on Training set = 77.558277% [3926/5062]\n",
            "\n",
            "Validation Loss per batch = 0.977021\tAccuracy on Validation set = 70.515098% [397/563]\n",
            "Train Loss: 0.5295, Train Accuracy: 77.5583\n",
            "Valid Loss: 0.9770, Valid Accuracy: 70.5151\n",
            "\n",
            "Epoch 13/30\n",
            "-------------------------------\n",
            "Epoch: 12, Learning Rate: 0.000625 \n"
          ]
        },
        {
          "output_type": "stream",
          "name": "stderr",
          "text": [
            "<ipython-input-16-473e11fd7032>:61: FutureWarning: The frame.append method is deprecated and will be removed from pandas in a future version. Use pandas.concat instead.\n",
            "  df = df.append({'epoch': epoch+1, 'train_loss': train_loss, 'train_accuracy': train_accuracy, 'valid_loss': valid_loss, 'valid_accuracy': valid_accuracy}, ignore_index=True)\n"
          ]
        },
        {
          "output_type": "stream",
          "name": "stdout",
          "text": [
            "Batch 0/317 processed, running loss: 0.304322, correct predictions: 14, total: 16\n",
            "Batch 10/317 processed, running loss: 5.208061, correct predictions: 141, total: 176\n",
            "Batch 20/317 processed, running loss: 9.432790, correct predictions: 270, total: 336\n",
            "Batch 30/317 processed, running loss: 14.976892, correct predictions: 395, total: 496\n",
            "Batch 40/317 processed, running loss: 20.082021, correct predictions: 529, total: 656\n",
            "Batch 50/317 processed, running loss: 25.114211, correct predictions: 652, total: 816\n",
            "Batch 60/317 processed, running loss: 30.482536, correct predictions: 781, total: 976\n",
            "Batch 70/317 processed, running loss: 35.856019, correct predictions: 912, total: 1136\n",
            "Batch 80/317 processed, running loss: 40.050093, correct predictions: 1041, total: 1296\n",
            "Batch 90/317 processed, running loss: 44.220479, correct predictions: 1170, total: 1456\n",
            "Batch 100/317 processed, running loss: 48.381084, correct predictions: 1294, total: 1616\n",
            "Batch 110/317 processed, running loss: 53.576327, correct predictions: 1417, total: 1776\n",
            "Batch 120/317 processed, running loss: 59.701653, correct predictions: 1536, total: 1936\n",
            "Batch 130/317 processed, running loss: 64.999832, correct predictions: 1656, total: 2096\n",
            "Batch 140/317 processed, running loss: 70.948456, correct predictions: 1781, total: 2256\n",
            "Batch 150/317 processed, running loss: 75.481716, correct predictions: 1903, total: 2416\n",
            "Batch 160/317 processed, running loss: 80.147897, correct predictions: 2019, total: 2576\n",
            "Batch 170/317 processed, running loss: 85.172766, correct predictions: 2141, total: 2736\n",
            "Batch 180/317 processed, running loss: 89.974049, correct predictions: 2255, total: 2896\n",
            "Batch 190/317 processed, running loss: 94.464899, correct predictions: 2384, total: 3056\n",
            "Batch 200/317 processed, running loss: 98.634513, correct predictions: 2509, total: 3216\n",
            "Batch 210/317 processed, running loss: 105.145413, correct predictions: 2614, total: 3376\n",
            "Batch 220/317 processed, running loss: 109.282927, correct predictions: 2737, total: 3536\n",
            "Batch 230/317 processed, running loss: 113.814779, correct predictions: 2866, total: 3696\n",
            "Batch 240/317 processed, running loss: 118.960678, correct predictions: 2990, total: 3856\n",
            "Batch 250/317 processed, running loss: 123.888343, correct predictions: 3116, total: 4016\n",
            "Batch 260/317 processed, running loss: 128.284298, correct predictions: 3247, total: 4176\n",
            "Batch 270/317 processed, running loss: 133.333466, correct predictions: 3372, total: 4336\n",
            "Batch 280/317 processed, running loss: 138.295043, correct predictions: 3492, total: 4496\n",
            "Batch 290/317 processed, running loss: 142.877058, correct predictions: 3621, total: 4656\n",
            "Batch 300/317 processed, running loss: 147.016362, correct predictions: 3748, total: 4816\n",
            "Batch 310/317 processed, running loss: 152.000025, correct predictions: 3878, total: 4976\n",
            "\n",
            "Training Loss per batch = 0.493167\tAccuracy on Training set = 77.913868% [3944/5062]\n",
            "\n",
            "Validation Loss per batch = 0.993651\tAccuracy on Validation set = 69.804618% [393/563]\n",
            "Train Loss: 0.4932, Train Accuracy: 77.9139\n",
            "Valid Loss: 0.9937, Valid Accuracy: 69.8046\n",
            "\n",
            "Epoch 14/30\n",
            "-------------------------------\n",
            "Epoch: 13, Learning Rate: 0.000625 \n"
          ]
        },
        {
          "output_type": "stream",
          "name": "stderr",
          "text": [
            "<ipython-input-16-473e11fd7032>:61: FutureWarning: The frame.append method is deprecated and will be removed from pandas in a future version. Use pandas.concat instead.\n",
            "  df = df.append({'epoch': epoch+1, 'train_loss': train_loss, 'train_accuracy': train_accuracy, 'valid_loss': valid_loss, 'valid_accuracy': valid_accuracy}, ignore_index=True)\n"
          ]
        },
        {
          "output_type": "stream",
          "name": "stdout",
          "text": [
            "Batch 0/317 processed, running loss: 0.410818, correct predictions: 14, total: 16\n",
            "Batch 10/317 processed, running loss: 4.744051, correct predictions: 150, total: 176\n",
            "Batch 20/317 processed, running loss: 9.674851, correct predictions: 282, total: 336\n",
            "Batch 30/317 processed, running loss: 14.341226, correct predictions: 405, total: 496\n",
            "Batch 40/317 processed, running loss: 18.542397, correct predictions: 539, total: 656\n",
            "Batch 50/317 processed, running loss: 22.893195, correct predictions: 672, total: 816\n",
            "Batch 60/317 processed, running loss: 27.052510, correct predictions: 804, total: 976\n",
            "Batch 70/317 processed, running loss: 32.005253, correct predictions: 928, total: 1136\n",
            "Batch 80/317 processed, running loss: 36.901894, correct predictions: 1046, total: 1296\n",
            "Batch 90/317 processed, running loss: 40.869323, correct predictions: 1169, total: 1456\n",
            "Batch 100/317 processed, running loss: 45.892442, correct predictions: 1295, total: 1616\n",
            "Batch 110/317 processed, running loss: 51.188675, correct predictions: 1419, total: 1776\n",
            "Batch 120/317 processed, running loss: 54.860797, correct predictions: 1550, total: 1936\n",
            "Batch 130/317 processed, running loss: 59.640548, correct predictions: 1674, total: 2096\n",
            "Batch 140/317 processed, running loss: 64.188980, correct predictions: 1796, total: 2256\n",
            "Batch 150/317 processed, running loss: 69.795493, correct predictions: 1918, total: 2416\n",
            "Batch 160/317 processed, running loss: 74.488281, correct predictions: 2041, total: 2576\n",
            "Batch 170/317 processed, running loss: 79.326036, correct predictions: 2171, total: 2736\n",
            "Batch 180/317 processed, running loss: 83.713882, correct predictions: 2291, total: 2896\n",
            "Batch 190/317 processed, running loss: 87.690930, correct predictions: 2419, total: 3056\n",
            "Batch 200/317 processed, running loss: 93.347352, correct predictions: 2537, total: 3216\n",
            "Batch 210/317 processed, running loss: 97.776903, correct predictions: 2668, total: 3376\n",
            "Batch 220/317 processed, running loss: 102.899002, correct predictions: 2793, total: 3536\n",
            "Batch 230/317 processed, running loss: 107.512834, correct predictions: 2920, total: 3696\n",
            "Batch 240/317 processed, running loss: 113.021344, correct predictions: 3047, total: 3856\n",
            "Batch 250/317 processed, running loss: 117.985986, correct predictions: 3167, total: 4016\n",
            "Batch 260/317 processed, running loss: 122.581135, correct predictions: 3293, total: 4176\n",
            "Batch 270/317 processed, running loss: 127.863777, correct predictions: 3417, total: 4336\n",
            "Batch 280/317 processed, running loss: 133.435581, correct predictions: 3532, total: 4496\n",
            "Batch 290/317 processed, running loss: 137.389646, correct predictions: 3660, total: 4656\n",
            "Batch 300/317 processed, running loss: 142.554632, correct predictions: 3785, total: 4816\n",
            "Batch 310/317 processed, running loss: 147.056016, correct predictions: 3913, total: 4976\n",
            "\n",
            "Training Loss per batch = 0.474493\tAccuracy on Training set = 78.526274% [3975/5062]\n",
            "\n",
            "Validation Loss per batch = 1.011925\tAccuracy on Validation set = 67.673179% [381/563]\n",
            "Train Loss: 0.4745, Train Accuracy: 78.5263\n",
            "Valid Loss: 1.0119, Valid Accuracy: 67.6732\n",
            "\n",
            "Epoch 15/30\n",
            "-------------------------------\n",
            "Epoch: 14, Learning Rate: 0.000625 \n"
          ]
        },
        {
          "output_type": "stream",
          "name": "stderr",
          "text": [
            "<ipython-input-16-473e11fd7032>:61: FutureWarning: The frame.append method is deprecated and will be removed from pandas in a future version. Use pandas.concat instead.\n",
            "  df = df.append({'epoch': epoch+1, 'train_loss': train_loss, 'train_accuracy': train_accuracy, 'valid_loss': valid_loss, 'valid_accuracy': valid_accuracy}, ignore_index=True)\n"
          ]
        },
        {
          "output_type": "stream",
          "name": "stdout",
          "text": [
            "Batch 0/317 processed, running loss: 0.229932, correct predictions: 12, total: 16\n",
            "Batch 10/317 processed, running loss: 6.115769, correct predictions: 129, total: 176\n",
            "Batch 20/317 processed, running loss: 10.673054, correct predictions: 262, total: 336\n",
            "Batch 30/317 processed, running loss: 15.104730, correct predictions: 382, total: 496\n",
            "Batch 40/317 processed, running loss: 18.769961, correct predictions: 519, total: 656\n",
            "Batch 50/317 processed, running loss: 24.124777, correct predictions: 640, total: 816\n",
            "Batch 60/317 processed, running loss: 28.603211, correct predictions: 766, total: 976\n",
            "Batch 70/317 processed, running loss: 34.080052, correct predictions: 895, total: 1136\n",
            "Batch 80/317 processed, running loss: 40.523862, correct predictions: 1013, total: 1296\n",
            "Batch 90/317 processed, running loss: 45.075308, correct predictions: 1131, total: 1456\n",
            "Batch 100/317 processed, running loss: 49.361779, correct predictions: 1257, total: 1616\n",
            "Batch 110/317 processed, running loss: 53.920159, correct predictions: 1384, total: 1776\n",
            "Batch 120/317 processed, running loss: 58.149583, correct predictions: 1512, total: 1936\n",
            "Batch 130/317 processed, running loss: 62.181662, correct predictions: 1642, total: 2096\n",
            "Batch 140/317 processed, running loss: 65.760409, correct predictions: 1772, total: 2256\n",
            "Batch 150/317 processed, running loss: 71.517486, correct predictions: 1894, total: 2416\n",
            "Batch 160/317 processed, running loss: 74.755082, correct predictions: 2023, total: 2576\n",
            "Batch 170/317 processed, running loss: 79.524088, correct predictions: 2148, total: 2736\n",
            "Batch 180/317 processed, running loss: 83.102261, correct predictions: 2278, total: 2896\n",
            "Batch 190/317 processed, running loss: 87.458223, correct predictions: 2406, total: 3056\n",
            "Batch 200/317 processed, running loss: 93.212459, correct predictions: 2523, total: 3216\n",
            "Batch 210/317 processed, running loss: 97.334167, correct predictions: 2655, total: 3376\n",
            "Batch 220/317 processed, running loss: 102.099068, correct predictions: 2781, total: 3536\n",
            "Batch 230/317 processed, running loss: 107.641704, correct predictions: 2902, total: 3696\n",
            "Batch 240/317 processed, running loss: 111.435913, correct predictions: 3037, total: 3856\n",
            "Batch 250/317 processed, running loss: 115.293353, correct predictions: 3165, total: 4016\n",
            "Batch 260/317 processed, running loss: 120.157713, correct predictions: 3293, total: 4176\n",
            "Batch 270/317 processed, running loss: 124.491326, correct predictions: 3418, total: 4336\n",
            "Batch 280/317 processed, running loss: 128.675218, correct predictions: 3553, total: 4496\n",
            "Batch 290/317 processed, running loss: 132.692451, correct predictions: 3689, total: 4656\n",
            "Batch 300/317 processed, running loss: 137.446934, correct predictions: 3818, total: 4816\n",
            "Batch 310/317 processed, running loss: 141.499581, correct predictions: 3943, total: 4976\n",
            "\n",
            "Training Loss per batch = 0.454297\tAccuracy on Training set = 79.257211% [4012/5062]\n",
            "\n",
            "Validation Loss per batch = 1.022476\tAccuracy on Validation set = 69.094139% [389/563]\n",
            "Train Loss: 0.4543, Train Accuracy: 79.2572\n",
            "Valid Loss: 1.0225, Valid Accuracy: 69.0941\n",
            "\n",
            "Epoch 16/30\n",
            "-------------------------------\n",
            "Epoch: 15, Learning Rate: 0.000625 \n"
          ]
        },
        {
          "output_type": "stream",
          "name": "stderr",
          "text": [
            "<ipython-input-16-473e11fd7032>:61: FutureWarning: The frame.append method is deprecated and will be removed from pandas in a future version. Use pandas.concat instead.\n",
            "  df = df.append({'epoch': epoch+1, 'train_loss': train_loss, 'train_accuracy': train_accuracy, 'valid_loss': valid_loss, 'valid_accuracy': valid_accuracy}, ignore_index=True)\n"
          ]
        },
        {
          "output_type": "stream",
          "name": "stdout",
          "text": [
            "Batch 0/317 processed, running loss: 0.599872, correct predictions: 12, total: 16\n",
            "Batch 10/317 processed, running loss: 4.658945, correct predictions: 142, total: 176\n",
            "Batch 20/317 processed, running loss: 8.912083, correct predictions: 266, total: 336\n",
            "Batch 30/317 processed, running loss: 12.789699, correct predictions: 397, total: 496\n",
            "Batch 40/317 processed, running loss: 18.336751, correct predictions: 519, total: 656\n",
            "Batch 50/317 processed, running loss: 22.883664, correct predictions: 643, total: 816\n",
            "Batch 60/317 processed, running loss: 27.293884, correct predictions: 780, total: 976\n",
            "Batch 70/317 processed, running loss: 32.369691, correct predictions: 909, total: 1136\n",
            "Batch 80/317 processed, running loss: 37.267414, correct predictions: 1043, total: 1296\n",
            "Batch 90/317 processed, running loss: 40.810013, correct predictions: 1180, total: 1456\n",
            "Batch 100/317 processed, running loss: 45.107441, correct predictions: 1309, total: 1616\n",
            "Batch 110/317 processed, running loss: 49.082234, correct predictions: 1438, total: 1776\n",
            "Batch 120/317 processed, running loss: 52.891222, correct predictions: 1569, total: 1936\n",
            "Batch 130/317 processed, running loss: 57.298065, correct predictions: 1683, total: 2096\n",
            "Batch 140/317 processed, running loss: 62.127515, correct predictions: 1811, total: 2256\n",
            "Batch 150/317 processed, running loss: 67.854887, correct predictions: 1934, total: 2416\n",
            "Batch 160/317 processed, running loss: 71.800070, correct predictions: 2061, total: 2576\n",
            "Batch 170/317 processed, running loss: 75.443335, correct predictions: 2194, total: 2736\n",
            "Batch 180/317 processed, running loss: 79.611082, correct predictions: 2314, total: 2896\n",
            "Batch 190/317 processed, running loss: 83.269729, correct predictions: 2433, total: 3056\n",
            "Batch 200/317 processed, running loss: 87.796847, correct predictions: 2559, total: 3216\n",
            "Batch 210/317 processed, running loss: 92.057408, correct predictions: 2679, total: 3376\n",
            "Batch 220/317 processed, running loss: 97.345108, correct predictions: 2804, total: 3536\n",
            "Batch 230/317 processed, running loss: 101.075747, correct predictions: 2934, total: 3696\n",
            "Batch 240/317 processed, running loss: 105.167078, correct predictions: 3057, total: 3856\n",
            "Batch 250/317 processed, running loss: 109.173721, correct predictions: 3190, total: 4016\n",
            "Batch 260/317 processed, running loss: 114.142656, correct predictions: 3307, total: 4176\n",
            "Batch 270/317 processed, running loss: 118.016718, correct predictions: 3437, total: 4336\n",
            "Batch 280/317 processed, running loss: 121.738050, correct predictions: 3573, total: 4496\n",
            "Batch 290/317 processed, running loss: 126.134068, correct predictions: 3710, total: 4656\n",
            "Batch 300/317 processed, running loss: 129.956358, correct predictions: 3852, total: 4816\n",
            "Batch 310/317 processed, running loss: 133.480570, correct predictions: 3990, total: 4976\n",
            "\n",
            "Training Loss per batch = 0.428917\tAccuracy on Training set = 80.205452% [4060/5062]\n",
            "\n",
            "Validation Loss per batch = 1.035401\tAccuracy on Validation set = 71.758437% [404/563]\n",
            "Train Loss: 0.4289, Train Accuracy: 80.2055\n",
            "Valid Loss: 1.0354, Valid Accuracy: 71.7584\n",
            "Early stopping at epoch 16, the validation loss did not improve for the last 4 epochs\n",
            "\n",
            "Training has completed!\n"
          ]
        }
      ]
    },
    {
      "cell_type": "code",
      "source": [
        "model.eval()  # Set the model to evaluation mode\n",
        "\n",
        "# Store all the model predictions for the test set\n",
        "all_preds = []\n",
        "all_labels = []\n",
        "\n",
        "# No need to track gradients for evaluation, saves memory and computations\n",
        "with torch.no_grad():\n",
        "    for batch in test_dataloader:\n",
        "        inputs, labels = batch\n",
        "        inputs = inputs.to(device)\n",
        "        labels = labels.to(device)\n",
        "\n",
        "        outputs = model(inputs)\n",
        "        _, preds = torch.max(outputs, 1)  # Get the index of the max log-probability\n",
        "\n",
        "        all_preds.extend(preds.cpu().numpy())\n",
        "        all_labels.extend(labels.cpu().numpy())"
      ],
      "metadata": {
        "id": "I1AcQn3ikQyD"
      },
      "execution_count": 18,
      "outputs": []
    },
    {
      "cell_type": "code",
      "source": [
        "from sklearn.metrics import confusion_matrix\n",
        "from sklearn.metrics import precision_score\n",
        "from sklearn.metrics import recall_score\n",
        "from sklearn.metrics import f1_score\n",
        "from sklearn.metrics import roc_auc_score\n",
        "import matplotlib.pyplot as plt\n",
        "import seaborn as sns\n"
      ],
      "metadata": {
        "id": "26QT6jxWj_07"
      },
      "execution_count": 19,
      "outputs": []
    },
    {
      "cell_type": "code",
      "source": [
        "cm = confusion_matrix(all_labels, all_preds)\n",
        "\n",
        "plt.figure(figsize=(10,7))\n",
        "sns.heatmap(cm, annot=True, fmt='d')\n",
        "plt.xlabel('Predicted')\n",
        "plt.ylabel('Truth')\n",
        "plt.show()\n",
        "\n",
        "from sklearn.metrics import confusion_matrix, classification_report\n",
        "\n",
        "cm = confusion_matrix(all_labels, all_preds)\n",
        "print(classification_report(all_labels, all_preds))\n",
        "\n",
        "# For multiclass case:\n",
        "num_classes = cm.shape[0]  # assuming cm is a square matrix\n",
        "\n",
        "for i in range(num_classes):\n",
        "    tp = cm[i, i]\n",
        "    fn = cm[i, :].sum() - tp  # sum across the row, excluding the diagonal element\n",
        "    fp = cm[:, i].sum() - tp  # sum down the column, excluding the diagonal element\n",
        "    tn = cm.sum() - fn - fp - tp\n",
        "\n",
        "    sensitivity = tp / (tp + fn)\n",
        "    specificity = tn / (tn + fp)\n",
        "    print(f\"For class {i}, Sensitivity: {sensitivity}, Specificity: {specificity}\")\n"
      ],
      "metadata": {
        "id": "7I92W90hYTAe",
        "colab": {
          "base_uri": "https://localhost:8080/",
          "height": 914
        },
        "outputId": "d9a0b9ab-536f-4321-ba41-0617568148fa"
      },
      "execution_count": 20,
      "outputs": [
        {
          "output_type": "display_data",
          "data": {
            "text/plain": [
              "<Figure size 1000x700 with 2 Axes>"
            ],
            "image/png": "[encoded data removed]"
          },
          "metadata": {}
        },
        {
          "output_type": "stream",
          "name": "stdout",
          "text": [
            "              precision    recall  f1-score   support\n",
            "\n",
            "           0       0.85      0.84      0.84      1015\n",
            "           1       0.11      0.15      0.13       101\n",
            "           2       0.54      0.51      0.53       211\n",
            "           3       0.48      0.37      0.42        41\n",
            "           4       0.42      0.47      0.44        32\n",
            "\n",
            "    accuracy                           0.71      1400\n",
            "   macro avg       0.48      0.47      0.47      1400\n",
            "weighted avg       0.73      0.71      0.72      1400\n",
            "\n",
            "For class 0, Sensitivity: 0.8354679802955665, Specificity: 0.6155844155844156\n",
            "For class 1, Sensitivity: 0.1485148514851485, Specificity: 0.9060816012317167\n",
            "For class 2, Sensitivity: 0.5118483412322274, Specificity: 0.9226240538267452\n",
            "For class 3, Sensitivity: 0.36585365853658536, Specificity: 0.9882266372332598\n",
            "For class 4, Sensitivity: 0.46875, Specificity: 0.9846491228070176\n"
          ]
        }
      ]
    },
    {
      "cell_type": "code",
      "source": [],
      "metadata": {
        "id": "grmA2x5vW406"
      },
      "execution_count": 20,
      "outputs": []
    },
    {
      "cell_type": "code",
      "source": [],
      "metadata": {
        "id": "H0OulKlKU_m4"
      },
      "execution_count": 20,
      "outputs": []
    },
    {
      "cell_type": "code",
      "source": [],
      "metadata": {
        "id": "ug7vI984UA0E"
      },
      "execution_count": 20,
      "outputs": []
    },
    {
      "cell_type": "code",
      "source": [],
      "metadata": {
        "id": "WTotw6mzRe_e"
      },
      "execution_count": 20,
      "outputs": []
    },
    {
      "cell_type": "code",
      "source": [],
      "metadata": {
        "id": "DEUo1d9LRah0"
      },
      "execution_count": 20,
      "outputs": []
    }
  ]
}